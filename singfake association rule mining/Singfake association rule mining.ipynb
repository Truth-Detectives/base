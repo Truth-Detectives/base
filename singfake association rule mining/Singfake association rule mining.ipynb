{
 "cells": [
  {
   "cell_type": "code",
   "execution_count": 5,
   "id": "8c64e4a0-5926-42e7-99b5-44704b5d46b3",
   "metadata": {},
   "outputs": [
    {
     "name": "stdout",
     "output_type": "stream",
     "text": [
      "Collecting mlxtend\n",
      "  Downloading mlxtend-0.23.4-py3-none-any.whl.metadata (7.3 kB)\n",
      "Requirement already satisfied: scipy>=1.2.1 in c:\\users\\nirvan\\anaconda3\\lib\\site-packages (from mlxtend) (1.13.1)\n",
      "Requirement already satisfied: numpy>=1.16.2 in c:\\users\\nirvan\\anaconda3\\lib\\site-packages (from mlxtend) (1.26.4)\n",
      "Requirement already satisfied: pandas>=0.24.2 in c:\\users\\nirvan\\anaconda3\\lib\\site-packages (from mlxtend) (2.2.2)\n",
      "Requirement already satisfied: scikit-learn>=1.3.1 in c:\\users\\nirvan\\anaconda3\\lib\\site-packages (from mlxtend) (1.5.1)\n",
      "Requirement already satisfied: matplotlib>=3.0.0 in c:\\users\\nirvan\\anaconda3\\lib\\site-packages (from mlxtend) (3.9.2)\n",
      "Requirement already satisfied: joblib>=0.13.2 in c:\\users\\nirvan\\anaconda3\\lib\\site-packages (from mlxtend) (1.4.2)\n",
      "Requirement already satisfied: contourpy>=1.0.1 in c:\\users\\nirvan\\anaconda3\\lib\\site-packages (from matplotlib>=3.0.0->mlxtend) (1.2.0)\n",
      "Requirement already satisfied: cycler>=0.10 in c:\\users\\nirvan\\anaconda3\\lib\\site-packages (from matplotlib>=3.0.0->mlxtend) (0.11.0)\n",
      "Requirement already satisfied: fonttools>=4.22.0 in c:\\users\\nirvan\\anaconda3\\lib\\site-packages (from matplotlib>=3.0.0->mlxtend) (4.51.0)\n",
      "Requirement already satisfied: kiwisolver>=1.3.1 in c:\\users\\nirvan\\anaconda3\\lib\\site-packages (from matplotlib>=3.0.0->mlxtend) (1.4.4)\n",
      "Requirement already satisfied: packaging>=20.0 in c:\\users\\nirvan\\anaconda3\\lib\\site-packages (from matplotlib>=3.0.0->mlxtend) (24.1)\n",
      "Requirement already satisfied: pillow>=8 in c:\\users\\nirvan\\anaconda3\\lib\\site-packages (from matplotlib>=3.0.0->mlxtend) (10.4.0)\n",
      "Requirement already satisfied: pyparsing>=2.3.1 in c:\\users\\nirvan\\anaconda3\\lib\\site-packages (from matplotlib>=3.0.0->mlxtend) (3.1.2)\n",
      "Requirement already satisfied: python-dateutil>=2.7 in c:\\users\\nirvan\\anaconda3\\lib\\site-packages (from matplotlib>=3.0.0->mlxtend) (2.9.0.post0)\n",
      "Requirement already satisfied: pytz>=2020.1 in c:\\users\\nirvan\\anaconda3\\lib\\site-packages (from pandas>=0.24.2->mlxtend) (2024.1)\n",
      "Requirement already satisfied: tzdata>=2022.7 in c:\\users\\nirvan\\anaconda3\\lib\\site-packages (from pandas>=0.24.2->mlxtend) (2023.3)\n",
      "Requirement already satisfied: threadpoolctl>=3.1.0 in c:\\users\\nirvan\\anaconda3\\lib\\site-packages (from scikit-learn>=1.3.1->mlxtend) (3.5.0)\n",
      "Requirement already satisfied: six>=1.5 in c:\\users\\nirvan\\anaconda3\\lib\\site-packages (from python-dateutil>=2.7->matplotlib>=3.0.0->mlxtend) (1.16.0)\n",
      "Downloading mlxtend-0.23.4-py3-none-any.whl (1.4 MB)\n",
      "   ---------------------------------------- 0.0/1.4 MB ? eta -:--:--\n",
      "   --------------- ------------------------ 0.5/1.4 MB 5.7 MB/s eta 0:00:01\n",
      "   ---------------------------------------- 1.4/1.4 MB 7.0 MB/s eta 0:00:00\n",
      "Installing collected packages: mlxtend\n",
      "Successfully installed mlxtend-0.23.4\n"
     ]
    }
   ],
   "source": [
    "!pip install mlxtend"
   ]
  },
  {
   "cell_type": "code",
   "execution_count": 17,
   "id": "a9c3e4c6-26d1-47e8-bfad-6dc1e940ce3a",
   "metadata": {},
   "outputs": [],
   "source": [
    "import pandas as pd\n",
    "from mlxtend.preprocessing import TransactionEncoder\n",
    "from mlxtend.frequent_patterns import fpmax"
   ]
  },
  {
   "cell_type": "code",
   "execution_count": 41,
   "id": "8d37cc38-e834-48d1-9afd-e90bfb44f07c",
   "metadata": {
    "scrolled": true
   },
   "outputs": [
    {
     "name": "stdout",
     "output_type": "stream",
     "text": [
      "Fake               631\n",
      "High Comments       50\n",
      "High Likes         113\n",
      "High Views         276\n",
      "Low Comments       793\n",
      "Low Likes          792\n",
      "Low Views          422\n",
      "Medium Comments    424\n",
      "Medium Likes       378\n",
      "Medium Views       587\n",
      "Real               654\n",
      "nan                 20\n",
      "dtype: int64\n"
     ]
    }
   ],
   "source": [
    "df = pd.read_csv(\"singfake_metadata.csv\")\n",
    "\n",
    "views_threshold = [0, 10000, 1000000, df['views'].max()]\n",
    "likes_threshold = [0, 1000, 50000, df['likes'].max()]\n",
    "comments_threshold = [0, 100, 5000, df['comments'].max()]\n",
    "\n",
    "df['views_category'] = pd.cut(df['views'], bins=views_threshold, labels=['Low Views', 'Medium Views', 'High Views'])\n",
    "df['likes_category'] = pd.cut(df['likes'], bins=likes_threshold, labels=['Low Likes', 'Medium Likes', 'High Likes'])\n",
    "df['comments_category'] = pd.cut(df['comments'], bins=comments_threshold, labels=['Low Comments', 'Medium Comments', 'High Comments'])\n",
    "\n",
    "df['bonafide_or_spoof'] = df['bonafide_or_spoof'].map({0: 'Real', 1: 'Fake'})\n",
    "df['views_category'] = df['views_category'].astype(str)\n",
    "df['likes_category'] = df['likes_category'].astype(str)\n",
    "df['comments_category'] = df['comments_category'].astype(str)\n",
    "\n",
    "df = df.fillna(\"Unknown\")\n",
    "transactions = df[['views_category', 'likes_category', 'comments_category', 'bonafide_or_spoof']].values.tolist()\n",
    "\n",
    "te = TransactionEncoder()\n",
    "te_ary = te.fit(transactions).transform(transactions)\n",
    "df_encoded = pd.DataFrame(te_ary, columns=te.columns_)\n",
    "print(df_encoded.sum())"
   ]
  },
  {
   "cell_type": "code",
   "execution_count": 43,
   "id": "a40a57a6-4407-4c6c-ae32-34efd977cf72",
   "metadata": {
    "scrolled": true
   },
   "outputs": [
    {
     "name": "stdout",
     "output_type": "stream",
     "text": [
      "    support                                           itemsets\n",
      "0  0.119066  (High Views, Medium Likes, Real, Medium Comments)\n",
      "1  0.110506                 (Medium Views, Medium Likes, Real)\n",
      "2  0.133852      (Medium Views, Medium Likes, Medium Comments)\n",
      "3  0.275486         (Low Likes, Low Comments, Low Views, Fake)\n",
      "4  0.121401      (Medium Views, Low Likes, Low Comments, Fake)\n",
      "5  0.140856      (Medium Views, Low Comments, Real, Low Likes)\n"
     ]
    }
   ],
   "source": [
    "frequent_items = fpmax(df_encoded, min_support=0.1, use_colnames=True)\n",
    "print(frequent_items)\n",
    "\n",
    "file_path = \"frequent_items.txt\"\n",
    "with open(file_path, \"w\") as f:\n",
    "    f.write(frequent_items.to_string(index=False))"
   ]
  },
  {
   "cell_type": "code",
   "execution_count": null,
   "id": "435dbbd9-b9d4-40f5-b87b-5d8ba2bcb3fa",
   "metadata": {},
   "outputs": [],
   "source": []
  }
 ],
 "metadata": {
  "kernelspec": {
   "display_name": "Python [conda env:base] *",
   "language": "python",
   "name": "conda-base-py"
  },
  "language_info": {
   "codemirror_mode": {
    "name": "ipython",
    "version": 3
   },
   "file_extension": ".py",
   "mimetype": "text/x-python",
   "name": "python",
   "nbconvert_exporter": "python",
   "pygments_lexer": "ipython3",
   "version": "3.12.7"
  }
 },
 "nbformat": 4,
 "nbformat_minor": 5
}
