{
 "cells": [
  {
   "cell_type": "markdown",
   "id": "3609d74c-9414-4495-8573-cb535273eeb5",
   "metadata": {},
   "source": [
    "# Singfake Dataset"
   ]
  },
  {
   "cell_type": "markdown",
   "id": "63395251-db84-454e-a055-3875f404caef",
   "metadata": {},
   "source": [
    "*In this notebook, the logistic regression model was used for the detection of AI generated videos through investigating the relationship between the amount of views,likes and comments on the respective videos. The video data for this notebook was collected through the use of BiliBili's and Youtube's APIs.for this notebook 0 denotes real videos and 1 denotes fake videos.*"
   ]
  },
  {
   "cell_type": "markdown",
   "id": "aced9f06-abc0-49a9-b5b4-43bfaa64c75a",
   "metadata": {},
   "source": [
    "### Logistic Regression Implementation"
   ]
  },
  {
   "cell_type": "code",
   "execution_count": 1,
   "id": "bb15235c-2e80-4819-b301-2975aa2126c9",
   "metadata": {},
   "outputs": [
    {
     "data": {
      "text/html": [
       "<div>\n",
       "<style scoped>\n",
       "    .dataframe tbody tr th:only-of-type {\n",
       "        vertical-align: middle;\n",
       "    }\n",
       "\n",
       "    .dataframe tbody tr th {\n",
       "        vertical-align: top;\n",
       "    }\n",
       "\n",
       "    .dataframe thead th {\n",
       "        text-align: right;\n",
       "    }\n",
       "</style>\n",
       "<table border=\"1\" class=\"dataframe\">\n",
       "  <thead>\n",
       "    <tr style=\"text-align: right;\">\n",
       "      <th></th>\n",
       "      <th>set</th>\n",
       "      <th>bonafide_or_spoof</th>\n",
       "      <th>language</th>\n",
       "      <th>singer</th>\n",
       "      <th>title</th>\n",
       "      <th>url</th>\n",
       "      <th>views</th>\n",
       "      <th>likes</th>\n",
       "      <th>comments</th>\n",
       "    </tr>\n",
       "  </thead>\n",
       "  <tbody>\n",
       "    <tr>\n",
       "      <th>0</th>\n",
       "      <td>Training</td>\n",
       "      <td>0</td>\n",
       "      <td>Mandarin</td>\n",
       "      <td>Stefanie_Sun</td>\n",
       "      <td>尚好的青春-孙燕姿</td>\n",
       "      <td>https://www.bilibili.com/video/BV1J841177n3?p=19</td>\n",
       "      <td>3335891</td>\n",
       "      <td>28129</td>\n",
       "      <td>1038</td>\n",
       "    </tr>\n",
       "    <tr>\n",
       "      <th>1</th>\n",
       "      <td>Training</td>\n",
       "      <td>0</td>\n",
       "      <td>Mandarin</td>\n",
       "      <td>Hebe_Tien</td>\n",
       "      <td>【首播】田馥甄 - 灵魂伴侣 - 官方MV</td>\n",
       "      <td>https://www.bilibili.com/video/BV18s411k7K3/?s...</td>\n",
       "      <td>152316</td>\n",
       "      <td>1329</td>\n",
       "      <td>173</td>\n",
       "    </tr>\n",
       "    <tr>\n",
       "      <th>2</th>\n",
       "      <td>T01</td>\n",
       "      <td>0</td>\n",
       "      <td>Mandarin</td>\n",
       "      <td>Stefanie_Sun</td>\n",
       "      <td>【私藏馆】孙燕姿《遇见》爆火神曲！祝大家节日快乐！</td>\n",
       "      <td>https://www.bilibili.com/video/BV1Q44y1M7bB/?s...</td>\n",
       "      <td>7920420</td>\n",
       "      <td>132851</td>\n",
       "      <td>3827</td>\n",
       "    </tr>\n",
       "    <tr>\n",
       "      <th>3</th>\n",
       "      <td>Training</td>\n",
       "      <td>0</td>\n",
       "      <td>Mandarin</td>\n",
       "      <td>Mayday</td>\n",
       "      <td>Mayday五月天【星空】MV官方完整版-電影「星空」主題曲</td>\n",
       "      <td>https://www.youtube.com/watch?v=RTUwaCImChM</td>\n",
       "      <td>44845261</td>\n",
       "      <td>112283</td>\n",
       "      <td>4765</td>\n",
       "    </tr>\n",
       "    <tr>\n",
       "      <th>4</th>\n",
       "      <td>Training</td>\n",
       "      <td>0</td>\n",
       "      <td>Mandarin</td>\n",
       "      <td>Stefanie_Sun</td>\n",
       "      <td>害怕-孙燕姿</td>\n",
       "      <td>https://www.bilibili.com/video/BV1J841177n3?p=...</td>\n",
       "      <td>3335894</td>\n",
       "      <td>28129</td>\n",
       "      <td>1038</td>\n",
       "    </tr>\n",
       "    <tr>\n",
       "      <th>5</th>\n",
       "      <td>T02</td>\n",
       "      <td>0</td>\n",
       "      <td>Mandarin</td>\n",
       "      <td>Teresa_Teng</td>\n",
       "      <td>邓丽君演唱《红豆》歌声悠扬，经典动听，让人回味无穷</td>\n",
       "      <td>https://www.bilibili.com/video/BV1LV4y1P7yJ/?s...</td>\n",
       "      <td>6106</td>\n",
       "      <td>28</td>\n",
       "      <td>10</td>\n",
       "    </tr>\n",
       "    <tr>\n",
       "      <th>6</th>\n",
       "      <td>Training</td>\n",
       "      <td>0</td>\n",
       "      <td>Mandarin</td>\n",
       "      <td>Hebe_Tien</td>\n",
       "      <td>【田馥甄】终身大事-2014 Live「2GETHER 4EVER ENCORE影音館」</td>\n",
       "      <td>https://www.bilibili.com/video/BV1os411B7NN/?s...</td>\n",
       "      <td>50649</td>\n",
       "      <td>590</td>\n",
       "      <td>67</td>\n",
       "    </tr>\n",
       "    <tr>\n",
       "      <th>7</th>\n",
       "      <td>Training</td>\n",
       "      <td>0</td>\n",
       "      <td>Mandarin</td>\n",
       "      <td>Hebe_Tien</td>\n",
       "      <td>田馥甄 - 要死就一定要死在你手里【梦想的声音】</td>\n",
       "      <td>https://www.bilibili.com/video/BV1Wx411n74G/?s...</td>\n",
       "      <td>166100</td>\n",
       "      <td>919</td>\n",
       "      <td>107</td>\n",
       "    </tr>\n",
       "    <tr>\n",
       "      <th>8</th>\n",
       "      <td>Training</td>\n",
       "      <td>0</td>\n",
       "      <td>Mandarin</td>\n",
       "      <td>Jay_Chou</td>\n",
       "      <td>周杰倫 Jay Chou【浪漫手機 Romantic Cellphone】-Official...</td>\n",
       "      <td>https://www.youtube.com/watch?v=Kbvu9Vt5_eE&amp;li...</td>\n",
       "      <td>7256658</td>\n",
       "      <td>27676</td>\n",
       "      <td>2060</td>\n",
       "    </tr>\n",
       "    <tr>\n",
       "      <th>9</th>\n",
       "      <td>Training</td>\n",
       "      <td>0</td>\n",
       "      <td>Mandarin</td>\n",
       "      <td>Hebe_Tien</td>\n",
       "      <td>还是要幸福</td>\n",
       "      <td>https://www.bilibili.com/video/BV1ja4y147Wr?p=11</td>\n",
       "      <td>12402</td>\n",
       "      <td>92</td>\n",
       "      <td>4</td>\n",
       "    </tr>\n",
       "  </tbody>\n",
       "</table>\n",
       "</div>"
      ],
      "text/plain": [
       "        set  bonafide_or_spoof  language        singer  \\\n",
       "0  Training                  0  Mandarin  Stefanie_Sun   \n",
       "1  Training                  0  Mandarin     Hebe_Tien   \n",
       "2       T01                  0  Mandarin  Stefanie_Sun   \n",
       "3  Training                  0  Mandarin        Mayday   \n",
       "4  Training                  0  Mandarin  Stefanie_Sun   \n",
       "5       T02                  0  Mandarin   Teresa_Teng   \n",
       "6  Training                  0  Mandarin     Hebe_Tien   \n",
       "7  Training                  0  Mandarin     Hebe_Tien   \n",
       "8  Training                  0  Mandarin      Jay_Chou   \n",
       "9  Training                  0  Mandarin     Hebe_Tien   \n",
       "\n",
       "                                               title  \\\n",
       "0                                          尚好的青春-孙燕姿   \n",
       "1                              【首播】田馥甄 - 灵魂伴侣 - 官方MV   \n",
       "2                          【私藏馆】孙燕姿《遇见》爆火神曲！祝大家节日快乐！   \n",
       "3                     Mayday五月天【星空】MV官方完整版-電影「星空」主題曲   \n",
       "4                                             害怕-孙燕姿   \n",
       "5                          邓丽君演唱《红豆》歌声悠扬，经典动听，让人回味无穷   \n",
       "6       【田馥甄】终身大事-2014 Live「2GETHER 4EVER ENCORE影音館」   \n",
       "7                           田馥甄 - 要死就一定要死在你手里【梦想的声音】   \n",
       "8  周杰倫 Jay Chou【浪漫手機 Romantic Cellphone】-Official...   \n",
       "9                                              还是要幸福   \n",
       "\n",
       "                                                 url     views   likes  \\\n",
       "0   https://www.bilibili.com/video/BV1J841177n3?p=19   3335891   28129   \n",
       "1  https://www.bilibili.com/video/BV18s411k7K3/?s...    152316    1329   \n",
       "2  https://www.bilibili.com/video/BV1Q44y1M7bB/?s...   7920420  132851   \n",
       "3        https://www.youtube.com/watch?v=RTUwaCImChM  44845261  112283   \n",
       "4  https://www.bilibili.com/video/BV1J841177n3?p=...   3335894   28129   \n",
       "5  https://www.bilibili.com/video/BV1LV4y1P7yJ/?s...      6106      28   \n",
       "6  https://www.bilibili.com/video/BV1os411B7NN/?s...     50649     590   \n",
       "7  https://www.bilibili.com/video/BV1Wx411n74G/?s...    166100     919   \n",
       "8  https://www.youtube.com/watch?v=Kbvu9Vt5_eE&li...   7256658   27676   \n",
       "9   https://www.bilibili.com/video/BV1ja4y147Wr?p=11     12402      92   \n",
       "\n",
       "   comments  \n",
       "0      1038  \n",
       "1       173  \n",
       "2      3827  \n",
       "3      4765  \n",
       "4      1038  \n",
       "5        10  \n",
       "6        67  \n",
       "7       107  \n",
       "8      2060  \n",
       "9         4  "
      ]
     },
     "execution_count": 1,
     "metadata": {},
     "output_type": "execute_result"
    }
   ],
   "source": [
    "import pandas as pd\n",
    "\n",
    "col_names = ['set','bonafide_or_spoof','language','singer','title','url','views','likes','comments']\n",
    "\n",
    "pdata = pd.read_csv('singfake_eda.csv', skiprows=1, names=col_names)\n",
    "\n",
    "pdata.head(10)"
   ]
  },
  {
   "cell_type": "code",
   "execution_count": 2,
   "id": "068aeca5-dc19-4df7-9ea7-787bd79a3de4",
   "metadata": {},
   "outputs": [
    {
     "name": "stdout",
     "output_type": "stream",
     "text": [
      "set                  object\n",
      "bonafide_or_spoof     int64\n",
      "language             object\n",
      "singer               object\n",
      "title                object\n",
      "url                  object\n",
      "views                 int64\n",
      "likes                 int64\n",
      "comments              int64\n",
      "dtype: object\n"
     ]
    }
   ],
   "source": [
    "print(pdata.dtypes)"
   ]
  },
  {
   "cell_type": "code",
   "execution_count": 3,
   "id": "fb18d4b4-250f-46a6-a90d-97bfdf6b92d1",
   "metadata": {},
   "outputs": [],
   "source": [
    "import sklearn\n",
    "from sklearn.datasets import make_classification\n",
    "from sklearn.model_selection import train_test_split\n",
    "from sklearn.linear_model import LogisticRegression\n",
    "from sklearn.metrics import accuracy_score, classification_report\n",
    "from sklearn.preprocessing import StandardScaler\n",
    "from sklearn.feature_extraction.text import TfidfVectorizer\n",
    "\n",
    "feat_col = ['views','likes','comments']\n",
    "\n",
    "X = pdata[feat_col] \n",
    "y = pdata.bonafide_or_spoof\n",
    "\n"
   ]
  },
  {
   "cell_type": "code",
   "execution_count": 4,
   "id": "b8d407bc-c04e-416b-9c7f-2986c64272f1",
   "metadata": {},
   "outputs": [],
   "source": [
    "X_train, X_test, y_train, y_test = train_test_split(X, y, test_size=0.2, random_state=42)"
   ]
  },
  {
   "cell_type": "code",
   "execution_count": 5,
   "id": "dda76ee1-5b05-415b-8386-d8456e162444",
   "metadata": {},
   "outputs": [
    {
     "name": "stdout",
     "output_type": "stream",
     "text": [
      "1009\n",
      "1009\n"
     ]
    }
   ],
   "source": [
    "print(len(X_train))\n",
    "print(len(y_train))"
   ]
  },
  {
   "cell_type": "code",
   "execution_count": 6,
   "id": "64cb2d32-38dd-405a-80e1-7bfdd91c7aea",
   "metadata": {},
   "outputs": [
    {
     "name": "stdout",
     "output_type": "stream",
     "text": [
      "32      0\n",
      "156     0\n",
      "382     0\n",
      "1062    1\n",
      "365     0\n",
      "       ..\n",
      "1044    1\n",
      "1095    1\n",
      "1130    1\n",
      "860     1\n",
      "1126    1\n",
      "Name: bonafide_or_spoof, Length: 1009, dtype: int64\n"
     ]
    }
   ],
   "source": [
    "print(y_train)"
   ]
  },
  {
   "cell_type": "code",
   "execution_count": 7,
   "id": "53fea2f8-597b-431c-8478-4929b1f985cd",
   "metadata": {},
   "outputs": [
    {
     "name": "stdout",
     "output_type": "stream",
     "text": [
      "       views  likes  comments\n",
      "32     56464    579        28\n",
      "156    11587    520        33\n",
      "382    12356    251        30\n",
      "1062    8635     62         9\n",
      "365    79299   1223        36\n",
      "...      ...    ...       ...\n",
      "1044  305439   6750       472\n",
      "1095     639      9         7\n",
      "1130   16142    184        47\n",
      "860     6384     86        22\n",
      "1126   22814    576       109\n",
      "\n",
      "[1009 rows x 3 columns]\n"
     ]
    }
   ],
   "source": [
    "print(X_train)"
   ]
  },
  {
   "cell_type": "code",
   "execution_count": 8,
   "id": "1a1ef63b-22e2-4ea2-a037-1cbed0521292",
   "metadata": {},
   "outputs": [
    {
     "data": {
      "text/plain": [
       "array([1, 1, 1, 1, 1, 1, 1, 1, 1, 1, 1, 1, 0, 0, 1, 1, 1, 1, 1, 1, 1, 1,\n",
       "       1, 1, 1, 1, 0, 1, 1, 1, 0, 1, 1, 0, 1, 0, 1, 1, 1, 1, 1, 1, 1, 1,\n",
       "       0, 0, 0, 0, 1, 1, 1, 0, 1, 1, 0, 1, 1, 1, 1, 1, 1, 0, 1, 0, 0, 1,\n",
       "       1, 0, 1, 1, 1, 1, 0, 1, 1, 0, 1, 1, 0, 0, 1, 1, 0, 1, 0, 1, 1, 1,\n",
       "       1, 0, 1, 1, 0, 1, 1, 0, 0, 1, 1, 1, 1, 1, 1, 1, 1, 1, 1, 0, 1, 0,\n",
       "       1, 1, 1, 1, 1, 1, 0, 0, 1, 1, 1, 0, 1, 1, 1, 0, 1, 1, 1, 1, 0, 1,\n",
       "       1, 0, 1, 0, 1, 1, 1, 1, 1, 1, 1, 0, 0, 0, 1, 1, 0, 1, 1, 1, 1, 1,\n",
       "       1, 1, 0, 1, 0, 1, 0, 1, 0, 1, 1, 1, 1, 0, 1, 1, 1, 1, 0, 1, 1, 1,\n",
       "       1, 1, 1, 0, 1, 1, 1, 1, 1, 0, 1, 1, 1, 1, 1, 1, 0, 0, 1, 0, 1, 1,\n",
       "       0, 1, 1, 0, 1, 0, 1, 1, 1, 1, 1, 1, 1, 1, 1, 0, 0, 1, 1, 0, 1, 0,\n",
       "       0, 1, 0, 1, 0, 1, 1, 1, 1, 0, 0, 0, 0, 1, 1, 1, 0, 1, 1, 1, 1, 1,\n",
       "       1, 1, 0, 1, 1, 1, 0, 1, 1, 0, 0])"
      ]
     },
     "execution_count": 8,
     "metadata": {},
     "output_type": "execute_result"
    }
   ],
   "source": [
    "lrmodel = LogisticRegression(max_iter=200,random_state=42)\n",
    "\n",
    "lrmodel.fit(X_train, y_train)\n",
    "\n",
    "y_pred = lrmodel.predict(X_test)\n",
    "y_pred "
   ]
  },
  {
   "cell_type": "code",
   "execution_count": 9,
   "id": "1a491363-2049-4ffe-9730-e2d9fa5a105b",
   "metadata": {},
   "outputs": [
    {
     "name": "stdout",
     "output_type": "stream",
     "text": [
      "Accuracy: 0.7193675889328063\n",
      "Classification Report:\n",
      "              precision    recall  f1-score   support\n",
      "\n",
      "           0       0.99      0.49      0.66       138\n",
      "           1       0.62      0.99      0.76       115\n",
      "\n",
      "    accuracy                           0.72       253\n",
      "   macro avg       0.80      0.74      0.71       253\n",
      "weighted avg       0.82      0.72      0.70       253\n",
      "\n"
     ]
    }
   ],
   "source": [
    "accuracy = accuracy_score(y_test, y_pred)\n",
    "print(\"Accuracy:\", accuracy)\n",
    "\n",
    "print(\"Classification Report:\")\n",
    "print(classification_report(y_test, y_pred))"
   ]
  },
  {
   "cell_type": "code",
   "execution_count": 10,
   "id": "6fe35b1d-f93c-46f2-b847-85f376180701",
   "metadata": {},
   "outputs": [
    {
     "data": {
      "text/plain": [
       "array([[ 68,  70],\n",
       "       [  1, 114]])"
      ]
     },
     "execution_count": 10,
     "metadata": {},
     "output_type": "execute_result"
    }
   ],
   "source": [
    "from sklearn import metrics\n",
    "\n",
    "cnf_matrix = metrics.confusion_matrix(y_test, y_pred)\n",
    "cnf_matrix "
   ]
  },
  {
   "cell_type": "code",
   "execution_count": 11,
   "id": "4bdb208c-8ac0-4969-b2ab-3336d2025cc6",
   "metadata": {},
   "outputs": [
    {
     "data": {
      "image/png": "[encoded data removed]",
      "text/plain": [
       "<Figure size 640x480 with 2 Axes>"
      ]
     },
     "metadata": {},
     "output_type": "display_data"
    }
   ],
   "source": [
    "import numpy as np\n",
    "import matplotlib.pyplot as plt\n",
    "import seaborn as sns\n",
    "\n",
    "#Renders the heatmap\n",
    "sns.heatmap(pd.DataFrame(cnf_matrix), annot=True, cmap=sns.color_palette(\"Spectral\", as_cmap=True) ,fmt='g',xticklabels=['Real', 'Fake'], yticklabels=['Fake', 'Real'])\n",
    "plt.title('Confusion matrix', y=1.1) #Sets the title, location and distance\n",
    "plt.ylabel('Actual') #Labels the Y axis as Actual\n",
    "plt.xlabel('Predicted') #Labels the X axis as Predicted\n",
    "plt.show()"
   ]
  },
  {
   "cell_type": "code",
   "execution_count": 35,
   "id": "0ed3dde6-b0fd-4c5f-8147-2c91a3c25e76",
   "metadata": {},
   "outputs": [
    {
     "data": {
      "image/png": "[encoded data removed]",
      "text/plain": [
       "<Figure size 640x480 with 1 Axes>"
      ]
     },
     "metadata": {},
     "output_type": "display_data"
    }
   ],
   "source": [
    "y_pred_proba = lrmodel.predict_proba(X_test)[::,1] #Calculates the probability of positive class 1\n",
    "falseposrate, trueposrate, _ = metrics.roc_curve(y_test,  y_pred_proba) #Gets the false positive rate and true positive rate\n",
    "auc = metrics.roc_auc_score(y_test, y_pred_proba) #Calculates AUC scaore\n",
    "plt.plot(falseposrate,trueposrate,label=\"roc, auc=\"+str(auc)) #Plots the false postive rate and true positive rate\n",
    "plt.plot([0, 1], [0, 1], color='orange', lw=2, linestyle='--')#Shows diagonal line \n",
    "plt.legend(loc=4) #Sets location of the legend\n",
    "plt.xlabel(\"False Positive Rate\")\n",
    "plt.ylabel(\"True Positive Rate\")\n",
    "plt.show()"
   ]
  },
  {
   "cell_type": "markdown",
   "id": "a9cdd475-757b-4e13-af14-4ea9ae8eb1a4",
   "metadata": {},
   "source": [
    "### Conclusion Logistic Regression"
   ]
  },
  {
   "cell_type": "markdown",
   "id": "febfdf8f-7dd7-4aca-a260-afc678dc6103",
   "metadata": {},
   "source": [
    "*The Logistic Regression model yield an accuracy of 0.719 with and f1-score of 0.66 for real videos and 0.76 for fake videos and an ACU value of 0.827. This shows that this model can dectect the AI generated videos relatively well.*"
   ]
  },
  {
   "cell_type": "markdown",
   "id": "97ab428b-9505-4b79-b118-941a10c44379",
   "metadata": {},
   "source": [
    "## K-Nearest Neighbor"
   ]
  },
  {
   "cell_type": "code",
   "execution_count": 13,
   "id": "f3c14386-be3f-4f0f-b5cc-a67bc44b5179",
   "metadata": {},
   "outputs": [
    {
     "data": {
      "text/html": [
       "<style>#sk-container-id-1 {\n",
       "  /* Definition of color scheme common for light and dark mode */\n",
       "  --sklearn-color-text: #000;\n",
       "  --sklearn-color-text-muted: #666;\n",
       "  --sklearn-color-line: gray;\n",
       "  /* Definition of color scheme for unfitted estimators */\n",
       "  --sklearn-color-unfitted-level-0: #fff5e6;\n",
       "  --sklearn-color-unfitted-level-1: #f6e4d2;\n",
       "  --sklearn-color-unfitted-level-2: #ffe0b3;\n",
       "  --sklearn-color-unfitted-level-3: chocolate;\n",
       "  /* Definition of color scheme for fitted estimators */\n",
       "  --sklearn-color-fitted-level-0: #f0f8ff;\n",
       "  --sklearn-color-fitted-level-1: #d4ebff;\n",
       "  --sklearn-color-fitted-level-2: #b3dbfd;\n",
       "  --sklearn-color-fitted-level-3: cornflowerblue;\n",
       "\n",
       "  /* Specific color for light theme */\n",
       "  --sklearn-color-text-on-default-background: var(--sg-text-color, var(--theme-code-foreground, var(--jp-content-font-color1, black)));\n",
       "  --sklearn-color-background: var(--sg-background-color, var(--theme-background, var(--jp-layout-color0, white)));\n",
       "  --sklearn-color-border-box: var(--sg-text-color, var(--theme-code-foreground, var(--jp-content-font-color1, black)));\n",
       "  --sklearn-color-icon: #696969;\n",
       "\n",
       "  @media (prefers-color-scheme: dark) {\n",
       "    /* Redefinition of color scheme for dark theme */\n",
       "    --sklearn-color-text-on-default-background: var(--sg-text-color, var(--theme-code-foreground, var(--jp-content-font-color1, white)));\n",
       "    --sklearn-color-background: var(--sg-background-color, var(--theme-background, var(--jp-layout-color0, #111)));\n",
       "    --sklearn-color-border-box: var(--sg-text-color, var(--theme-code-foreground, var(--jp-content-font-color1, white)));\n",
       "    --sklearn-color-icon: #878787;\n",
       "  }\n",
       "}\n",
       "\n",
       "#sk-container-id-1 {\n",
       "  color: var(--sklearn-color-text);\n",
       "}\n",
       "\n",
       "#sk-container-id-1 pre {\n",
       "  padding: 0;\n",
       "}\n",
       "\n",
       "#sk-container-id-1 input.sk-hidden--visually {\n",
       "  border: 0;\n",
       "  clip: rect(1px 1px 1px 1px);\n",
       "  clip: rect(1px, 1px, 1px, 1px);\n",
       "  height: 1px;\n",
       "  margin: -1px;\n",
       "  overflow: hidden;\n",
       "  padding: 0;\n",
       "  position: absolute;\n",
       "  width: 1px;\n",
       "}\n",
       "\n",
       "#sk-container-id-1 div.sk-dashed-wrapped {\n",
       "  border: 1px dashed var(--sklearn-color-line);\n",
       "  margin: 0 0.4em 0.5em 0.4em;\n",
       "  box-sizing: border-box;\n",
       "  padding-bottom: 0.4em;\n",
       "  background-color: var(--sklearn-color-background);\n",
       "}\n",
       "\n",
       "#sk-container-id-1 div.sk-container {\n",
       "  /* jupyter's `normalize.less` sets `[hidden] { display: none; }`\n",
       "     but bootstrap.min.css set `[hidden] { display: none !important; }`\n",
       "     so we also need the `!important` here to be able to override the\n",
       "     default hidden behavior on the sphinx rendered scikit-learn.org.\n",
       "     See: https://github.com/scikit-learn/scikit-learn/issues/21755 */\n",
       "  display: inline-block !important;\n",
       "  position: relative;\n",
       "}\n",
       "\n",
       "#sk-container-id-1 div.sk-text-repr-fallback {\n",
       "  display: none;\n",
       "}\n",
       "\n",
       "div.sk-parallel-item,\n",
       "div.sk-serial,\n",
       "div.sk-item {\n",
       "  /* draw centered vertical line to link estimators */\n",
       "  background-image: linear-gradient(var(--sklearn-color-text-on-default-background), var(--sklearn-color-text-on-default-background));\n",
       "  background-size: 2px 100%;\n",
       "  background-repeat: no-repeat;\n",
       "  background-position: center center;\n",
       "}\n",
       "\n",
       "/* Parallel-specific style estimator block */\n",
       "\n",
       "#sk-container-id-1 div.sk-parallel-item::after {\n",
       "  content: \"\";\n",
       "  width: 100%;\n",
       "  border-bottom: 2px solid var(--sklearn-color-text-on-default-background);\n",
       "  flex-grow: 1;\n",
       "}\n",
       "\n",
       "#sk-container-id-1 div.sk-parallel {\n",
       "  display: flex;\n",
       "  align-items: stretch;\n",
       "  justify-content: center;\n",
       "  background-color: var(--sklearn-color-background);\n",
       "  position: relative;\n",
       "}\n",
       "\n",
       "#sk-container-id-1 div.sk-parallel-item {\n",
       "  display: flex;\n",
       "  flex-direction: column;\n",
       "}\n",
       "\n",
       "#sk-container-id-1 div.sk-parallel-item:first-child::after {\n",
       "  align-self: flex-end;\n",
       "  width: 50%;\n",
       "}\n",
       "\n",
       "#sk-container-id-1 div.sk-parallel-item:last-child::after {\n",
       "  align-self: flex-start;\n",
       "  width: 50%;\n",
       "}\n",
       "\n",
       "#sk-container-id-1 div.sk-parallel-item:only-child::after {\n",
       "  width: 0;\n",
       "}\n",
       "\n",
       "/* Serial-specific style estimator block */\n",
       "\n",
       "#sk-container-id-1 div.sk-serial {\n",
       "  display: flex;\n",
       "  flex-direction: column;\n",
       "  align-items: center;\n",
       "  background-color: var(--sklearn-color-background);\n",
       "  padding-right: 1em;\n",
       "  padding-left: 1em;\n",
       "}\n",
       "\n",
       "\n",
       "/* Toggleable style: style used for estimator/Pipeline/ColumnTransformer box that is\n",
       "clickable and can be expanded/collapsed.\n",
       "- Pipeline and ColumnTransformer use this feature and define the default style\n",
       "- Estimators will overwrite some part of the style using the `sk-estimator` class\n",
       "*/\n",
       "\n",
       "/* Pipeline and ColumnTransformer style (default) */\n",
       "\n",
       "#sk-container-id-1 div.sk-toggleable {\n",
       "  /* Default theme specific background. It is overwritten whether we have a\n",
       "  specific estimator or a Pipeline/ColumnTransformer */\n",
       "  background-color: var(--sklearn-color-background);\n",
       "}\n",
       "\n",
       "/* Toggleable label */\n",
       "#sk-container-id-1 label.sk-toggleable__label {\n",
       "  cursor: pointer;\n",
       "  display: flex;\n",
       "  width: 100%;\n",
       "  margin-bottom: 0;\n",
       "  padding: 0.5em;\n",
       "  box-sizing: border-box;\n",
       "  text-align: center;\n",
       "  align-items: start;\n",
       "  justify-content: space-between;\n",
       "  gap: 0.5em;\n",
       "}\n",
       "\n",
       "#sk-container-id-1 label.sk-toggleable__label .caption {\n",
       "  font-size: 0.6rem;\n",
       "  font-weight: lighter;\n",
       "  color: var(--sklearn-color-text-muted);\n",
       "}\n",
       "\n",
       "#sk-container-id-1 label.sk-toggleable__label-arrow:before {\n",
       "  /* Arrow on the left of the label */\n",
       "  content: \"▸\";\n",
       "  float: left;\n",
       "  margin-right: 0.25em;\n",
       "  color: var(--sklearn-color-icon);\n",
       "}\n",
       "\n",
       "#sk-container-id-1 label.sk-toggleable__label-arrow:hover:before {\n",
       "  color: var(--sklearn-color-text);\n",
       "}\n",
       "\n",
       "/* Toggleable content - dropdown */\n",
       "\n",
       "#sk-container-id-1 div.sk-toggleable__content {\n",
       "  max-height: 0;\n",
       "  max-width: 0;\n",
       "  overflow: hidden;\n",
       "  text-align: left;\n",
       "  /* unfitted */\n",
       "  background-color: var(--sklearn-color-unfitted-level-0);\n",
       "}\n",
       "\n",
       "#sk-container-id-1 div.sk-toggleable__content.fitted {\n",
       "  /* fitted */\n",
       "  background-color: var(--sklearn-color-fitted-level-0);\n",
       "}\n",
       "\n",
       "#sk-container-id-1 div.sk-toggleable__content pre {\n",
       "  margin: 0.2em;\n",
       "  border-radius: 0.25em;\n",
       "  color: var(--sklearn-color-text);\n",
       "  /* unfitted */\n",
       "  background-color: var(--sklearn-color-unfitted-level-0);\n",
       "}\n",
       "\n",
       "#sk-container-id-1 div.sk-toggleable__content.fitted pre {\n",
       "  /* unfitted */\n",
       "  background-color: var(--sklearn-color-fitted-level-0);\n",
       "}\n",
       "\n",
       "#sk-container-id-1 input.sk-toggleable__control:checked~div.sk-toggleable__content {\n",
       "  /* Expand drop-down */\n",
       "  max-height: 200px;\n",
       "  max-width: 100%;\n",
       "  overflow: auto;\n",
       "}\n",
       "\n",
       "#sk-container-id-1 input.sk-toggleable__control:checked~label.sk-toggleable__label-arrow:before {\n",
       "  content: \"▾\";\n",
       "}\n",
       "\n",
       "/* Pipeline/ColumnTransformer-specific style */\n",
       "\n",
       "#sk-container-id-1 div.sk-label input.sk-toggleable__control:checked~label.sk-toggleable__label {\n",
       "  color: var(--sklearn-color-text);\n",
       "  background-color: var(--sklearn-color-unfitted-level-2);\n",
       "}\n",
       "\n",
       "#sk-container-id-1 div.sk-label.fitted input.sk-toggleable__control:checked~label.sk-toggleable__label {\n",
       "  background-color: var(--sklearn-color-fitted-level-2);\n",
       "}\n",
       "\n",
       "/* Estimator-specific style */\n",
       "\n",
       "/* Colorize estimator box */\n",
       "#sk-container-id-1 div.sk-estimator input.sk-toggleable__control:checked~label.sk-toggleable__label {\n",
       "  /* unfitted */\n",
       "  background-color: var(--sklearn-color-unfitted-level-2);\n",
       "}\n",
       "\n",
       "#sk-container-id-1 div.sk-estimator.fitted input.sk-toggleable__control:checked~label.sk-toggleable__label {\n",
       "  /* fitted */\n",
       "  background-color: var(--sklearn-color-fitted-level-2);\n",
       "}\n",
       "\n",
       "#sk-container-id-1 div.sk-label label.sk-toggleable__label,\n",
       "#sk-container-id-1 div.sk-label label {\n",
       "  /* The background is the default theme color */\n",
       "  color: var(--sklearn-color-text-on-default-background);\n",
       "}\n",
       "\n",
       "/* On hover, darken the color of the background */\n",
       "#sk-container-id-1 div.sk-label:hover label.sk-toggleable__label {\n",
       "  color: var(--sklearn-color-text);\n",
       "  background-color: var(--sklearn-color-unfitted-level-2);\n",
       "}\n",
       "\n",
       "/* Label box, darken color on hover, fitted */\n",
       "#sk-container-id-1 div.sk-label.fitted:hover label.sk-toggleable__label.fitted {\n",
       "  color: var(--sklearn-color-text);\n",
       "  background-color: var(--sklearn-color-fitted-level-2);\n",
       "}\n",
       "\n",
       "/* Estimator label */\n",
       "\n",
       "#sk-container-id-1 div.sk-label label {\n",
       "  font-family: monospace;\n",
       "  font-weight: bold;\n",
       "  display: inline-block;\n",
       "  line-height: 1.2em;\n",
       "}\n",
       "\n",
       "#sk-container-id-1 div.sk-label-container {\n",
       "  text-align: center;\n",
       "}\n",
       "\n",
       "/* Estimator-specific */\n",
       "#sk-container-id-1 div.sk-estimator {\n",
       "  font-family: monospace;\n",
       "  border: 1px dotted var(--sklearn-color-border-box);\n",
       "  border-radius: 0.25em;\n",
       "  box-sizing: border-box;\n",
       "  margin-bottom: 0.5em;\n",
       "  /* unfitted */\n",
       "  background-color: var(--sklearn-color-unfitted-level-0);\n",
       "}\n",
       "\n",
       "#sk-container-id-1 div.sk-estimator.fitted {\n",
       "  /* fitted */\n",
       "  background-color: var(--sklearn-color-fitted-level-0);\n",
       "}\n",
       "\n",
       "/* on hover */\n",
       "#sk-container-id-1 div.sk-estimator:hover {\n",
       "  /* unfitted */\n",
       "  background-color: var(--sklearn-color-unfitted-level-2);\n",
       "}\n",
       "\n",
       "#sk-container-id-1 div.sk-estimator.fitted:hover {\n",
       "  /* fitted */\n",
       "  background-color: var(--sklearn-color-fitted-level-2);\n",
       "}\n",
       "\n",
       "/* Specification for estimator info (e.g. \"i\" and \"?\") */\n",
       "\n",
       "/* Common style for \"i\" and \"?\" */\n",
       "\n",
       ".sk-estimator-doc-link,\n",
       "a:link.sk-estimator-doc-link,\n",
       "a:visited.sk-estimator-doc-link {\n",
       "  float: right;\n",
       "  font-size: smaller;\n",
       "  line-height: 1em;\n",
       "  font-family: monospace;\n",
       "  background-color: var(--sklearn-color-background);\n",
       "  border-radius: 1em;\n",
       "  height: 1em;\n",
       "  width: 1em;\n",
       "  text-decoration: none !important;\n",
       "  margin-left: 0.5em;\n",
       "  text-align: center;\n",
       "  /* unfitted */\n",
       "  border: var(--sklearn-color-unfitted-level-1) 1pt solid;\n",
       "  color: var(--sklearn-color-unfitted-level-1);\n",
       "}\n",
       "\n",
       ".sk-estimator-doc-link.fitted,\n",
       "a:link.sk-estimator-doc-link.fitted,\n",
       "a:visited.sk-estimator-doc-link.fitted {\n",
       "  /* fitted */\n",
       "  border: var(--sklearn-color-fitted-level-1) 1pt solid;\n",
       "  color: var(--sklearn-color-fitted-level-1);\n",
       "}\n",
       "\n",
       "/* On hover */\n",
       "div.sk-estimator:hover .sk-estimator-doc-link:hover,\n",
       ".sk-estimator-doc-link:hover,\n",
       "div.sk-label-container:hover .sk-estimator-doc-link:hover,\n",
       ".sk-estimator-doc-link:hover {\n",
       "  /* unfitted */\n",
       "  background-color: var(--sklearn-color-unfitted-level-3);\n",
       "  color: var(--sklearn-color-background);\n",
       "  text-decoration: none;\n",
       "}\n",
       "\n",
       "div.sk-estimator.fitted:hover .sk-estimator-doc-link.fitted:hover,\n",
       ".sk-estimator-doc-link.fitted:hover,\n",
       "div.sk-label-container:hover .sk-estimator-doc-link.fitted:hover,\n",
       ".sk-estimator-doc-link.fitted:hover {\n",
       "  /* fitted */\n",
       "  background-color: var(--sklearn-color-fitted-level-3);\n",
       "  color: var(--sklearn-color-background);\n",
       "  text-decoration: none;\n",
       "}\n",
       "\n",
       "/* Span, style for the box shown on hovering the info icon */\n",
       ".sk-estimator-doc-link span {\n",
       "  display: none;\n",
       "  z-index: 9999;\n",
       "  position: relative;\n",
       "  font-weight: normal;\n",
       "  right: .2ex;\n",
       "  padding: .5ex;\n",
       "  margin: .5ex;\n",
       "  width: min-content;\n",
       "  min-width: 20ex;\n",
       "  max-width: 50ex;\n",
       "  color: var(--sklearn-color-text);\n",
       "  box-shadow: 2pt 2pt 4pt #999;\n",
       "  /* unfitted */\n",
       "  background: var(--sklearn-color-unfitted-level-0);\n",
       "  border: .5pt solid var(--sklearn-color-unfitted-level-3);\n",
       "}\n",
       "\n",
       ".sk-estimator-doc-link.fitted span {\n",
       "  /* fitted */\n",
       "  background: var(--sklearn-color-fitted-level-0);\n",
       "  border: var(--sklearn-color-fitted-level-3);\n",
       "}\n",
       "\n",
       ".sk-estimator-doc-link:hover span {\n",
       "  display: block;\n",
       "}\n",
       "\n",
       "/* \"?\"-specific style due to the `<a>` HTML tag */\n",
       "\n",
       "#sk-container-id-1 a.estimator_doc_link {\n",
       "  float: right;\n",
       "  font-size: 1rem;\n",
       "  line-height: 1em;\n",
       "  font-family: monospace;\n",
       "  background-color: var(--sklearn-color-background);\n",
       "  border-radius: 1rem;\n",
       "  height: 1rem;\n",
       "  width: 1rem;\n",
       "  text-decoration: none;\n",
       "  /* unfitted */\n",
       "  color: var(--sklearn-color-unfitted-level-1);\n",
       "  border: var(--sklearn-color-unfitted-level-1) 1pt solid;\n",
       "}\n",
       "\n",
       "#sk-container-id-1 a.estimator_doc_link.fitted {\n",
       "  /* fitted */\n",
       "  border: var(--sklearn-color-fitted-level-1) 1pt solid;\n",
       "  color: var(--sklearn-color-fitted-level-1);\n",
       "}\n",
       "\n",
       "/* On hover */\n",
       "#sk-container-id-1 a.estimator_doc_link:hover {\n",
       "  /* unfitted */\n",
       "  background-color: var(--sklearn-color-unfitted-level-3);\n",
       "  color: var(--sklearn-color-background);\n",
       "  text-decoration: none;\n",
       "}\n",
       "\n",
       "#sk-container-id-1 a.estimator_doc_link.fitted:hover {\n",
       "  /* fitted */\n",
       "  background-color: var(--sklearn-color-fitted-level-3);\n",
       "}\n",
       "</style><div id=\"sk-container-id-1\" class=\"sk-top-container\"><div class=\"sk-text-repr-fallback\"><pre>KNeighborsClassifier(n_neighbors=10)</pre><b>In a Jupyter environment, please rerun this cell to show the HTML representation or trust the notebook. <br />On GitHub, the HTML representation is unable to render, please try loading this page with nbviewer.org.</b></div><div class=\"sk-container\" hidden><div class=\"sk-item\"><div class=\"sk-estimator fitted sk-toggleable\"><input class=\"sk-toggleable__control sk-hidden--visually\" id=\"sk-estimator-id-1\" type=\"checkbox\" checked><label for=\"sk-estimator-id-1\" class=\"sk-toggleable__label fitted sk-toggleable__label-arrow\"><div><div>KNeighborsClassifier</div></div><div><a class=\"sk-estimator-doc-link fitted\" rel=\"noreferrer\" target=\"_blank\" href=\"https://scikit-learn.org/1.6/modules/generated/sklearn.neighbors.KNeighborsClassifier.html\">?<span>Documentation for KNeighborsClassifier</span></a><span class=\"sk-estimator-doc-link fitted\">i<span>Fitted</span></span></div></label><div class=\"sk-toggleable__content fitted\"><pre>KNeighborsClassifier(n_neighbors=10)</pre></div> </div></div></div></div>"
      ],
      "text/plain": [
       "KNeighborsClassifier(n_neighbors=10)"
      ]
     },
     "execution_count": 13,
     "metadata": {},
     "output_type": "execute_result"
    }
   ],
   "source": [
    "from sklearn.neighbors import KNeighborsClassifier\n",
    "\n",
    "\n",
    "knnmodel = KNeighborsClassifier(n_neighbors=10) \n",
    "\n",
    "knnmodel.fit(X_train, y_train)"
   ]
  },
  {
   "cell_type": "code",
   "execution_count": 14,
   "id": "c53f8fca-a150-454c-a076-a5e4cbb7950c",
   "metadata": {},
   "outputs": [
    {
     "name": "stdout",
     "output_type": "stream",
     "text": [
      "1009\n",
      "1009\n"
     ]
    }
   ],
   "source": [
    "print(len(X_train))\n",
    "print(len(y_train))"
   ]
  },
  {
   "cell_type": "code",
   "execution_count": 15,
   "id": "8ce525a6-da14-48ab-a460-210fbeca3e2a",
   "metadata": {},
   "outputs": [
    {
     "data": {
      "text/plain": [
       "array([1, 1, 0, 0, 0, 1, 0, 1, 0, 1, 1, 1, 0, 0, 1, 0, 1, 0, 0, 0, 1, 0,\n",
       "       1, 1, 1, 0, 0, 1, 1, 1, 0, 0, 1, 0, 0, 0, 0, 0, 1, 1, 0, 0, 0, 1,\n",
       "       0, 0, 0, 0, 1, 0, 1, 0, 0, 1, 0, 1, 1, 1, 0, 0, 1, 0, 0, 0, 0, 0,\n",
       "       1, 0, 1, 1, 0, 1, 0, 0, 0, 0, 1, 1, 0, 0, 0, 1, 0, 0, 0, 1, 1, 1,\n",
       "       1, 0, 1, 1, 0, 1, 0, 0, 0, 0, 0, 0, 1, 1, 1, 1, 1, 1, 1, 0, 1, 0,\n",
       "       1, 0, 1, 1, 1, 0, 0, 0, 1, 1, 1, 0, 1, 1, 0, 0, 0, 1, 1, 1, 0, 1,\n",
       "       1, 0, 0, 0, 1, 1, 0, 1, 1, 1, 1, 0, 0, 0, 0, 1, 0, 0, 1, 0, 1, 1,\n",
       "       0, 1, 0, 1, 0, 1, 0, 0, 0, 1, 1, 0, 0, 0, 0, 0, 0, 1, 0, 1, 1, 0,\n",
       "       1, 1, 1, 0, 1, 0, 1, 0, 0, 0, 0, 1, 0, 1, 0, 1, 0, 0, 1, 0, 1, 1,\n",
       "       0, 1, 0, 0, 0, 0, 1, 0, 0, 1, 0, 1, 1, 0, 0, 0, 0, 1, 1, 0, 1, 0,\n",
       "       0, 1, 0, 0, 0, 1, 0, 1, 1, 0, 0, 0, 0, 1, 1, 1, 0, 0, 0, 1, 1, 1,\n",
       "       1, 1, 0, 0, 1, 0, 0, 0, 1, 0, 0])"
      ]
     },
     "execution_count": 15,
     "metadata": {},
     "output_type": "execute_result"
    }
   ],
   "source": [
    "y_pred_knn = knnmodel.predict(X_test)\n",
    "y_pred_knn"
   ]
  },
  {
   "cell_type": "code",
   "execution_count": 16,
   "id": "55fef570-0586-482c-bc8b-b32e8e00e000",
   "metadata": {},
   "outputs": [
    {
     "name": "stdout",
     "output_type": "stream",
     "text": [
      "Accuracy: 0.8537549407114624\n",
      "              precision    recall  f1-score   support\n",
      "\n",
      "           0       0.86      0.87      0.87       138\n",
      "           1       0.84      0.83      0.84       115\n",
      "\n",
      "    accuracy                           0.85       253\n",
      "   macro avg       0.85      0.85      0.85       253\n",
      "weighted avg       0.85      0.85      0.85       253\n",
      "\n"
     ]
    }
   ],
   "source": [
    "accuracy = accuracy_score(y_test, y_pred_knn)\n",
    "print(\"Accuracy:\", accuracy)\n",
    "print(classification_report(y_test, y_pred_knn))"
   ]
  },
  {
   "cell_type": "code",
   "execution_count": 17,
   "id": "f6cc9ef2-4665-4dc7-826e-ce560c01d02d",
   "metadata": {},
   "outputs": [
    {
     "data": {
      "text/plain": [
       "array([[120,  18],\n",
       "       [ 19,  96]])"
      ]
     },
     "execution_count": 17,
     "metadata": {},
     "output_type": "execute_result"
    }
   ],
   "source": [
    "cnf_knn = metrics.confusion_matrix(y_test, y_pred_knn)\n",
    "cnf_knn"
   ]
  },
  {
   "cell_type": "code",
   "execution_count": 18,
   "id": "95cfff92-659f-4205-972f-d2f05b4b84f5",
   "metadata": {},
   "outputs": [
    {
     "data": {
      "image/png": "[encoded data removed]",
      "text/plain": [
       "<Figure size 640x480 with 2 Axes>"
      ]
     },
     "metadata": {},
     "output_type": "display_data"
    }
   ],
   "source": [
    "#Renders the Heatmap\n",
    "sns.heatmap(cnf_knn, annot=True, fmt='d', cmap=sns.color_palette(\"Spectral\", as_cmap=True),xticklabels=['Real', 'Fake'], yticklabels=['Fake', 'Real'])\n",
    "plt.title('Confusion matrix', y=1.1) #Sets the title, location and distance\n",
    "plt.xlabel('Predicted') #Labels the X axis as Actual\n",
    "plt.ylabel('Actual') #Labels the Y axis as Predicted\n",
    "plt.show()"
   ]
  },
  {
   "cell_type": "code",
   "execution_count": 34,
   "id": "c63e51aa-3f8c-4683-bc74-ce831bb19cc2",
   "metadata": {},
   "outputs": [
    {
     "data": {
      "image/png": "[encoded data removed]",
      "text/plain": [
       "<Figure size 640x480 with 1 Axes>"
      ]
     },
     "metadata": {},
     "output_type": "display_data"
    }
   ],
   "source": [
    "y_pred_proba_knn = knnmodel.predict_proba(X_test)[::,1] #Calculates the probability of positive class 1\n",
    "falseposrateknn, trueposrateknn, _ = metrics.roc_curve(y_test,  y_pred_proba_knn) #Gets the false positive rate and true positive rate\n",
    "auc = metrics.roc_auc_score(y_test, y_pred_proba_knn) #Calculates AUC score\n",
    "plt.plot(falseposrateknn,trueposrateknn,label=\"roc, auc=\"+str(auc)) #Plots the false postive rate and true positive rate\n",
    "plt.plot([0, 1], [0, 1], color='orange', lw=2, linestyle='--')#Shows diagonal line \n",
    "plt.legend(loc=4) #Sets location of the legend\n",
    "plt.xlabel(\"False Positive Rate\")\n",
    "plt.ylabel(\"True Positive Rate\")\n",
    "plt.show()"
   ]
  },
  {
   "cell_type": "markdown",
   "id": "bc718842-729f-4087-9f22-9b49038e94c1",
   "metadata": {},
   "source": [
    "### Conclusion for K-Nearest Neighbor"
   ]
  },
  {
   "cell_type": "markdown",
   "id": "a797df0c-3e19-42f7-af3d-3ce2730e2678",
   "metadata": {},
   "source": [
    "*The K-Nearest Neighbor model yield an accuracy of 0.854 with and f1-score of 0.87 for real videos and 0.84 for fake videos and an ACU value of 0.917. This shows that this model can dectect the AI generated videos better than the Logisitic Regression model and the Decision Tree model.*"
   ]
  },
  {
   "cell_type": "markdown",
   "id": "a07e5c70-c52a-4a64-807f-b55a9b0d8d1a",
   "metadata": {},
   "source": [
    "# Decision Tree"
   ]
  },
  {
   "cell_type": "code",
   "execution_count": 20,
   "id": "f2343744-cb68-4d8a-aed4-c4c94b9fb6cf",
   "metadata": {},
   "outputs": [],
   "source": [
    "from sklearn.tree import DecisionTreeClassifier\n",
    "\n",
    "dtc = DecisionTreeClassifier()"
   ]
  },
  {
   "cell_type": "code",
   "execution_count": 21,
   "id": "3242315b-a71e-4919-98dc-191935d334d1",
   "metadata": {},
   "outputs": [],
   "source": [
    "dtc = dtc.fit(X_train,y_train)"
   ]
  },
  {
   "cell_type": "code",
   "execution_count": 22,
   "id": "e1518b08-c5da-4ded-bc34-43fdcf5e412e",
   "metadata": {},
   "outputs": [
    {
     "data": {
      "text/plain": [
       "array([1, 1, 0, 1, 0, 1, 0, 1, 0, 1, 0, 1, 0, 0, 1, 0, 1, 0, 0, 0, 0, 0,\n",
       "       1, 1, 1, 0, 0, 1, 1, 1, 0, 0, 1, 0, 0, 0, 0, 1, 1, 1, 0, 0, 0, 0,\n",
       "       0, 0, 0, 0, 1, 0, 0, 0, 0, 1, 0, 0, 1, 1, 0, 0, 1, 0, 1, 0, 0, 1,\n",
       "       1, 1, 1, 1, 0, 0, 0, 0, 0, 0, 1, 0, 0, 0, 0, 1, 0, 1, 0, 1, 1, 1,\n",
       "       1, 0, 1, 1, 0, 0, 0, 0, 0, 0, 0, 0, 1, 1, 1, 1, 1, 1, 1, 0, 1, 0,\n",
       "       1, 0, 1, 1, 1, 1, 0, 0, 1, 1, 1, 0, 0, 1, 0, 0, 0, 1, 0, 1, 0, 1,\n",
       "       1, 0, 1, 0, 1, 1, 0, 1, 1, 1, 1, 0, 0, 0, 1, 0, 0, 1, 1, 0, 1, 0,\n",
       "       0, 1, 0, 1, 0, 1, 0, 0, 0, 1, 1, 1, 0, 0, 0, 0, 0, 1, 0, 1, 1, 0,\n",
       "       1, 1, 1, 0, 1, 0, 1, 0, 1, 0, 0, 1, 1, 1, 0, 0, 0, 0, 1, 0, 0, 1,\n",
       "       0, 1, 0, 0, 0, 0, 1, 1, 0, 0, 0, 1, 1, 0, 0, 0, 0, 1, 1, 0, 1, 0,\n",
       "       0, 1, 0, 0, 0, 1, 1, 1, 1, 0, 0, 0, 0, 1, 1, 1, 0, 1, 1, 1, 1, 1,\n",
       "       1, 1, 0, 0, 1, 0, 0, 0, 1, 0, 0])"
      ]
     },
     "execution_count": 22,
     "metadata": {},
     "output_type": "execute_result"
    }
   ],
   "source": [
    "y_pred_dtc = dtc.predict(X_test)\n",
    "y_pred_dtc"
   ]
  },
  {
   "cell_type": "code",
   "execution_count": 23,
   "id": "2a5dfe3a-8f06-4015-aae6-4b487dda7e3a",
   "metadata": {},
   "outputs": [
    {
     "name": "stdout",
     "output_type": "stream",
     "text": [
      "Accuracy: 0.8537549407114624\n",
      "              precision    recall  f1-score   support\n",
      "\n",
      "           0       0.87      0.86      0.87       138\n",
      "           1       0.84      0.84      0.84       115\n",
      "\n",
      "    accuracy                           0.85       253\n",
      "   macro avg       0.85      0.85      0.85       253\n",
      "weighted avg       0.85      0.85      0.85       253\n",
      "\n"
     ]
    }
   ],
   "source": [
    "accuracy = accuracy_score(y_test, y_pred_dtc)\n",
    "print(\"Accuracy:\", accuracy)\n",
    "print(classification_report(y_test, y_pred_dtc))"
   ]
  },
  {
   "cell_type": "code",
   "execution_count": 24,
   "id": "a49152dc-0e67-43c2-9540-c4298996e267",
   "metadata": {},
   "outputs": [
    {
     "data": {
      "text/plain": [
       "array([[119,  19],\n",
       "       [ 18,  97]])"
      ]
     },
     "execution_count": 24,
     "metadata": {},
     "output_type": "execute_result"
    }
   ],
   "source": [
    "cnf_dtc = metrics.confusion_matrix(y_test, y_pred_dtc)\n",
    "cnf_dtc"
   ]
  },
  {
   "cell_type": "code",
   "execution_count": 25,
   "id": "588369fe-24cd-4a2a-90c0-070d6641790c",
   "metadata": {},
   "outputs": [
    {
     "data": {
      "image/png": "[encoded data removed]",
      "text/plain": [
       "<Figure size 640x480 with 2 Axes>"
      ]
     },
     "metadata": {},
     "output_type": "display_data"
    }
   ],
   "source": [
    "sns.heatmap(cnf_dtc, annot=True, fmt='d', cmap=sns.color_palette(\"Spectral\", as_cmap=True),xticklabels=['Real', 'Fake'], yticklabels=['Fake', 'Real'])\n",
    "plt.title('Confusion matrix', y=1.1) #Sets the title, location and distance\n",
    "plt.xlabel('Predicted') #Labels the X axis as Actual\n",
    "plt.ylabel('Actual') #Labels the Y axis as Predicted\n",
    "plt.show()"
   ]
  },
  {
   "cell_type": "code",
   "execution_count": 33,
   "id": "c6308414-56e5-4dbe-8b6c-30cbd954f86f",
   "metadata": {},
   "outputs": [
    {
     "data": {
      "image/png": "[encoded data removed]",
      "text/plain": [
       "<Figure size 640x480 with 1 Axes>"
      ]
     },
     "metadata": {},
     "output_type": "display_data"
    }
   ],
   "source": [
    "y_pred_proba_dtc = dtc.predict_proba(X_test)[::,1] #Calculates the probability of positive class 1\n",
    "falseposratedtc, trueposratedtc, _ = metrics.roc_curve(y_test,  y_pred_proba_dtc) #Gets the false positive rate and true positive rate\n",
    "auc = metrics.roc_auc_score(y_test, y_pred_proba_dtc) #Calculates AUC score\n",
    "plt.plot(falseposratedtc,trueposratedtc,label=\"roc, auc=\"+str(auc)) #Plots the false postive rate and true positive rate\n",
    "plt.plot([0, 1], [0, 1], color='orange', lw=2, linestyle='--') #Shows diagonal line \n",
    "plt.legend(loc=4) #Sets location of the legend\n",
    "plt.xlabel(\"False Positive Rate\")\n",
    "plt.ylabel(\"True Positive Rate\")\n",
    "plt.show()"
   ]
  },
  {
   "cell_type": "markdown",
   "id": "40d131e7-c157-44d7-afef-a844442e86c3",
   "metadata": {},
   "source": [
    "### Conclusion for Decision Tree"
   ]
  },
  {
   "cell_type": "markdown",
   "id": "732f245d-58a8-4c8d-a2b5-4241bb429503",
   "metadata": {},
   "source": [
    "*The Decision Tree model yield an accuracy of 0.846 with and f1-score of 0.86 for real videos and 0.83 for fake videos and an ACU value of 0.843. This shows that this model can dectect the AI generated videos better than the Logistic Regression model but not as well as the K-Nearest Neighbor model.*"
   ]
  },
  {
   "cell_type": "markdown",
   "id": "8b71b46c-2c01-4248-856f-5c576e4f1360",
   "metadata": {},
   "source": [
    "# Baseline"
   ]
  },
  {
   "cell_type": "markdown",
   "id": "24619b03-e7aa-4e00-914d-1c2773255c53",
   "metadata": {},
   "source": [
    "*The baseline derived from this notebook is as follows:*\n",
    "- Accuracy = 0.806\n",
    "- F1-Score (0) = 0.80 (0.796)\n",
    "- F1-Score (1) = 0.81\n",
    "- AUC Score = 0.862"
   ]
  },
  {
   "cell_type": "code",
   "execution_count": null,
   "id": "8dd85360-74d7-4a6d-a531-75ccfb5a1ed1",
   "metadata": {},
   "outputs": [],
   "source": []
  }
 ],
 "metadata": {
  "kernelspec": {
   "display_name": "Python 3 (ipykernel)",
   "language": "python",
   "name": "python3"
  },
  "language_info": {
   "codemirror_mode": {
    "name": "ipython",
    "version": 3
   },
   "file_extension": ".py",
   "mimetype": "text/x-python",
   "name": "python",
   "nbconvert_exporter": "python",
   "pygments_lexer": "ipython3",
   "version": "3.12.1"
  }
 },
 "nbformat": 4,
 "nbformat_minor": 5
}
