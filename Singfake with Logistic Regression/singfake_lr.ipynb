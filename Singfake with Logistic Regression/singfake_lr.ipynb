{
 "cells": [
  {
   "cell_type": "markdown",
   "id": "3609d74c-9414-4495-8573-cb535273eeb5",
   "metadata": {},
   "source": [
    "# Singfake Dataset"
   ]
  },
  {
   "cell_type": "markdown",
   "id": "63395251-db84-454e-a055-3875f404caef",
   "metadata": {},
   "source": [
    "*In this notebook, the logistic regression model was used for the detection of AI generated videos through investigating the relationship between the amount of views,likes and comments on the respective videos. The video data for this notebook was collected through the use of BiliBili's and Youtube's APIs.for this notebook 0 denotes real videos and 1 denotes fake videos.*"
   ]
  },
  {
   "cell_type": "markdown",
   "id": "aced9f06-abc0-49a9-b5b4-43bfaa64c75a",
   "metadata": {},
   "source": [
    "### Logistic Regression Implementation"
   ]
  },
  {
   "cell_type": "code",
   "execution_count": 1,
   "id": "bb15235c-2e80-4819-b301-2975aa2126c9",
   "metadata": {},
   "outputs": [
    {
     "data": {
      "text/html": [
       "<div>\n",
       "<style scoped>\n",
       "    .dataframe tbody tr th:only-of-type {\n",
       "        vertical-align: middle;\n",
       "    }\n",
       "\n",
       "    .dataframe tbody tr th {\n",
       "        vertical-align: top;\n",
       "    }\n",
       "\n",
       "    .dataframe thead th {\n",
       "        text-align: right;\n",
       "    }\n",
       "</style>\n",
       "<table border=\"1\" class=\"dataframe\">\n",
       "  <thead>\n",
       "    <tr style=\"text-align: right;\">\n",
       "      <th></th>\n",
       "      <th>set</th>\n",
       "      <th>bonafide_or_spoof</th>\n",
       "      <th>language</th>\n",
       "      <th>singer</th>\n",
       "      <th>title</th>\n",
       "      <th>url</th>\n",
       "      <th>views</th>\n",
       "      <th>likes</th>\n",
       "      <th>comments</th>\n",
       "    </tr>\n",
       "  </thead>\n",
       "  <tbody>\n",
       "    <tr>\n",
       "      <th>0</th>\n",
       "      <td>Training</td>\n",
       "      <td>0</td>\n",
       "      <td>Mandarin</td>\n",
       "      <td>Bella_Yao</td>\n",
       "      <td>姚贝娜——也许明天 很少有这样人人都说好听的歌</td>\n",
       "      <td>https://www.bilibili.com/video/BV1wx411U7YC/?s...</td>\n",
       "      <td>2337396</td>\n",
       "      <td>39087</td>\n",
       "      <td>3163</td>\n",
       "    </tr>\n",
       "    <tr>\n",
       "      <th>1</th>\n",
       "      <td>Training</td>\n",
       "      <td>0</td>\n",
       "      <td>Mandarin</td>\n",
       "      <td>Bella_Yao</td>\n",
       "      <td>【姚贝娜】 史诗绝唱《鱼》</td>\n",
       "      <td>https://www.bilibili.com/video/BV1kx411P7Xb/?s...</td>\n",
       "      <td>2149226</td>\n",
       "      <td>46190</td>\n",
       "      <td>4505</td>\n",
       "    </tr>\n",
       "    <tr>\n",
       "      <th>2</th>\n",
       "      <td>Training</td>\n",
       "      <td>0</td>\n",
       "      <td>Mandarin</td>\n",
       "      <td>Bella_Yao</td>\n",
       "      <td>【4K修复】姚贝娜《随它吧》MV（《冰雪奇缘》中文主题曲片尾流行版）</td>\n",
       "      <td>https://www.bilibili.com/video/BV1E8411W7RG/?s...</td>\n",
       "      <td>58577</td>\n",
       "      <td>1150</td>\n",
       "      <td>84</td>\n",
       "    </tr>\n",
       "    <tr>\n",
       "      <th>3</th>\n",
       "      <td>Training</td>\n",
       "      <td>0</td>\n",
       "      <td>Mandarin</td>\n",
       "      <td>Bella_Yao</td>\n",
       "      <td>【姚贝娜】听姚贝娜现场演唱《随它吧》，让人欲罢不能</td>\n",
       "      <td>https://www.bilibili.com/video/BV1CW411G7EQ/?s...</td>\n",
       "      <td>38177</td>\n",
       "      <td>303</td>\n",
       "      <td>49</td>\n",
       "    </tr>\n",
       "    <tr>\n",
       "      <th>4</th>\n",
       "      <td>Training</td>\n",
       "      <td>0</td>\n",
       "      <td>Mandarin</td>\n",
       "      <td>Bella_Yao</td>\n",
       "      <td>【4K 60fps】姚贝娜 - Beautiful Light 4K修复版 官方版MV 广汽...</td>\n",
       "      <td>https://www.bilibili.com/video/BV1mP4y1g7HX/?s...</td>\n",
       "      <td>5306</td>\n",
       "      <td>153</td>\n",
       "      <td>34</td>\n",
       "    </tr>\n",
       "    <tr>\n",
       "      <th>5</th>\n",
       "      <td>Training</td>\n",
       "      <td>0</td>\n",
       "      <td>Mandarin</td>\n",
       "      <td>Bella_Yao</td>\n",
       "      <td>姚贝娜经典歌曲《菩萨蛮》，好听到爆，可惜才女却不在了</td>\n",
       "      <td>https://www.bilibili.com/video/BV1yb411K7zM/?s...</td>\n",
       "      <td>627768</td>\n",
       "      <td>11234</td>\n",
       "      <td>268</td>\n",
       "    </tr>\n",
       "    <tr>\n",
       "      <th>6</th>\n",
       "      <td>Training</td>\n",
       "      <td>0</td>\n",
       "      <td>Mandarin</td>\n",
       "      <td>Bella_Yao</td>\n",
       "      <td>【姚贝娜】摇滚版《山歌好比春江水》 全程高能！很强很暴力！</td>\n",
       "      <td>https://www.bilibili.com/video/BV1pF411c7yV/?s...</td>\n",
       "      <td>8080</td>\n",
       "      <td>170</td>\n",
       "      <td>30</td>\n",
       "    </tr>\n",
       "    <tr>\n",
       "      <th>7</th>\n",
       "      <td>Training</td>\n",
       "      <td>0</td>\n",
       "      <td>Mandarin</td>\n",
       "      <td>Bella_Yao</td>\n",
       "      <td>【姚贝娜】元旦晚会唯美现场《画情》，直抵灵魂深处的好歌声</td>\n",
       "      <td>https://www.bilibili.com/video/BV1rx411L7Ay/?s...</td>\n",
       "      <td>63426</td>\n",
       "      <td>965</td>\n",
       "      <td>55</td>\n",
       "    </tr>\n",
       "    <tr>\n",
       "      <th>8</th>\n",
       "      <td>Training</td>\n",
       "      <td>0</td>\n",
       "      <td>Mandarin</td>\n",
       "      <td>Bella_Yao</td>\n",
       "      <td>【演出106】离不开你-姚贝娜</td>\n",
       "      <td>https://www.bilibili.com/video/BV1qb411k7bM/?s...</td>\n",
       "      <td>7607</td>\n",
       "      <td>132</td>\n",
       "      <td>24</td>\n",
       "    </tr>\n",
       "    <tr>\n",
       "      <th>9</th>\n",
       "      <td>Training</td>\n",
       "      <td>0</td>\n",
       "      <td>Mandarin</td>\n",
       "      <td>Bella_Yao</td>\n",
       "      <td>【姚贝娜】《我用所有报答爱》</td>\n",
       "      <td>https://www.bilibili.com/video/BV1DF411F7vn/?s...</td>\n",
       "      <td>8327</td>\n",
       "      <td>157</td>\n",
       "      <td>45</td>\n",
       "    </tr>\n",
       "  </tbody>\n",
       "</table>\n",
       "</div>"
      ],
      "text/plain": [
       "        set  bonafide_or_spoof  language     singer  \\\n",
       "0  Training                  0  Mandarin  Bella_Yao   \n",
       "1  Training                  0  Mandarin  Bella_Yao   \n",
       "2  Training                  0  Mandarin  Bella_Yao   \n",
       "3  Training                  0  Mandarin  Bella_Yao   \n",
       "4  Training                  0  Mandarin  Bella_Yao   \n",
       "5  Training                  0  Mandarin  Bella_Yao   \n",
       "6  Training                  0  Mandarin  Bella_Yao   \n",
       "7  Training                  0  Mandarin  Bella_Yao   \n",
       "8  Training                  0  Mandarin  Bella_Yao   \n",
       "9  Training                  0  Mandarin  Bella_Yao   \n",
       "\n",
       "                                               title  \\\n",
       "0                            姚贝娜——也许明天 很少有这样人人都说好听的歌   \n",
       "1                                      【姚贝娜】 史诗绝唱《鱼》   \n",
       "2                 【4K修复】姚贝娜《随它吧》MV（《冰雪奇缘》中文主题曲片尾流行版）   \n",
       "3                          【姚贝娜】听姚贝娜现场演唱《随它吧》，让人欲罢不能   \n",
       "4  【4K 60fps】姚贝娜 - Beautiful Light 4K修复版 官方版MV 广汽...   \n",
       "5                         姚贝娜经典歌曲《菩萨蛮》，好听到爆，可惜才女却不在了   \n",
       "6                      【姚贝娜】摇滚版《山歌好比春江水》 全程高能！很强很暴力！   \n",
       "7                       【姚贝娜】元旦晚会唯美现场《画情》，直抵灵魂深处的好歌声   \n",
       "8                                    【演出106】离不开你-姚贝娜   \n",
       "9                                     【姚贝娜】《我用所有报答爱》   \n",
       "\n",
       "                                                 url    views  likes  comments  \n",
       "0  https://www.bilibili.com/video/BV1wx411U7YC/?s...  2337396  39087      3163  \n",
       "1  https://www.bilibili.com/video/BV1kx411P7Xb/?s...  2149226  46190      4505  \n",
       "2  https://www.bilibili.com/video/BV1E8411W7RG/?s...    58577   1150        84  \n",
       "3  https://www.bilibili.com/video/BV1CW411G7EQ/?s...    38177    303        49  \n",
       "4  https://www.bilibili.com/video/BV1mP4y1g7HX/?s...     5306    153        34  \n",
       "5  https://www.bilibili.com/video/BV1yb411K7zM/?s...   627768  11234       268  \n",
       "6  https://www.bilibili.com/video/BV1pF411c7yV/?s...     8080    170        30  \n",
       "7  https://www.bilibili.com/video/BV1rx411L7Ay/?s...    63426    965        55  \n",
       "8  https://www.bilibili.com/video/BV1qb411k7bM/?s...     7607    132        24  \n",
       "9  https://www.bilibili.com/video/BV1DF411F7vn/?s...     8327    157        45  "
      ]
     },
     "execution_count": 1,
     "metadata": {},
     "output_type": "execute_result"
    }
   ],
   "source": [
    "import pandas as pd\n",
    "\n",
    "col_names = ['set','bonafide_or_spoof','language','singer','title','url','views','likes','comments']\n",
    "\n",
    "pdata = pd.read_csv('singfake_updated_dataset.csv', skiprows=1, names=col_names)\n",
    "\n",
    "pdata.head(10)"
   ]
  },
  {
   "cell_type": "code",
   "execution_count": 2,
   "id": "068aeca5-dc19-4df7-9ea7-787bd79a3de4",
   "metadata": {},
   "outputs": [
    {
     "name": "stdout",
     "output_type": "stream",
     "text": [
      "set                  object\n",
      "bonafide_or_spoof     int64\n",
      "language             object\n",
      "singer               object\n",
      "title                object\n",
      "url                  object\n",
      "views                 int64\n",
      "likes                 int64\n",
      "comments              int64\n",
      "dtype: object\n"
     ]
    }
   ],
   "source": [
    "print(pdata.dtypes)"
   ]
  },
  {
   "cell_type": "code",
   "execution_count": 3,
   "id": "fb18d4b4-250f-46a6-a90d-97bfdf6b92d1",
   "metadata": {},
   "outputs": [],
   "source": [
    "import sklearn\n",
    "from sklearn.datasets import make_classification\n",
    "from sklearn.model_selection import train_test_split\n",
    "from sklearn.linear_model import LogisticRegression\n",
    "from sklearn.metrics import accuracy_score, classification_report\n",
    "from sklearn.preprocessing import StandardScaler\n",
    "from sklearn.feature_extraction.text import TfidfVectorizer\n",
    "\n",
    "feat_col = ['views','likes','comments']\n",
    "\n",
    "X = pdata[feat_col] \n",
    "y = pdata.bonafide_or_spoof\n",
    "\n"
   ]
  },
  {
   "cell_type": "code",
   "execution_count": 4,
   "id": "b8d407bc-c04e-416b-9c7f-2986c64272f1",
   "metadata": {},
   "outputs": [],
   "source": [
    "X_train, X_test, y_train, y_test = train_test_split(X, y, test_size=0.25, random_state=42)"
   ]
  },
  {
   "cell_type": "code",
   "execution_count": 5,
   "id": "dda76ee1-5b05-415b-8386-d8456e162444",
   "metadata": {},
   "outputs": [
    {
     "name": "stdout",
     "output_type": "stream",
     "text": [
      "963\n",
      "963\n"
     ]
    }
   ],
   "source": [
    "print(len(X_train))\n",
    "print(len(y_train))"
   ]
  },
  {
   "cell_type": "code",
   "execution_count": 6,
   "id": "64cb2d32-38dd-405a-80e1-7bfdd91c7aea",
   "metadata": {},
   "outputs": [
    {
     "name": "stdout",
     "output_type": "stream",
     "text": [
      "1176    0\n",
      "752     1\n",
      "745     1\n",
      "420     0\n",
      "398     0\n",
      "       ..\n",
      "1044    1\n",
      "1095    0\n",
      "1130    0\n",
      "860     1\n",
      "1126    0\n",
      "Name: bonafide_or_spoof, Length: 963, dtype: int64\n"
     ]
    }
   ],
   "source": [
    "print(y_train)"
   ]
  },
  {
   "cell_type": "code",
   "execution_count": 7,
   "id": "53fea2f8-597b-431c-8478-4929b1f985cd",
   "metadata": {},
   "outputs": [
    {
     "name": "stdout",
     "output_type": "stream",
     "text": [
      "         views  likes  comments\n",
      "1176     24157    476        23\n",
      "752        748     19         2\n",
      "745        408      6         3\n",
      "420      56464    579        28\n",
      "398      56464    579        28\n",
      "...        ...    ...       ...\n",
      "1044      1397     17         1\n",
      "1095  19289747  63510      4133\n",
      "1130     39058    305        14\n",
      "860       6493     48         8\n",
      "1126    112251   1890       205\n",
      "\n",
      "[963 rows x 3 columns]\n"
     ]
    }
   ],
   "source": [
    "print(X_train)"
   ]
  },
  {
   "cell_type": "code",
   "execution_count": 8,
   "id": "1a1ef63b-22e2-4ea2-a037-1cbed0521292",
   "metadata": {},
   "outputs": [
    {
     "data": {
      "text/plain": [
       "array([0, 1, 1, 0, 1, 1, 1, 0, 1, 1, 1, 0, 0, 1, 0, 0, 1, 0, 0, 1, 1, 0,\n",
       "       1, 1, 1, 1, 1, 0, 1, 0, 1, 0, 1, 1, 0, 1, 0, 0, 1, 0, 1, 1, 0, 1,\n",
       "       0, 1, 1, 0, 1, 1, 1, 1, 0, 0, 1, 1, 1, 1, 1, 1, 0, 0, 1, 1, 1, 1,\n",
       "       1, 0, 0, 0, 0, 0, 1, 1, 1, 1, 1, 1, 1, 1, 1, 1, 1, 1, 1, 1, 0, 1,\n",
       "       0, 1, 0, 1, 1, 0, 1, 1, 0, 1, 0, 0, 1, 0, 0, 1, 1, 1, 1, 1, 1, 1,\n",
       "       0, 1, 0, 1, 0, 0, 0, 0, 1, 1, 1, 1, 0, 1, 0, 0, 0, 1, 1, 1, 1, 1,\n",
       "       1, 1, 1, 1, 1, 0, 1, 1, 1, 0, 0, 0, 1, 1, 1, 0, 0, 1, 0, 0, 1, 1,\n",
       "       0, 0, 1, 1, 1, 1, 1, 1, 0, 1, 1, 1, 0, 1, 0, 1, 1, 1, 1, 0, 1, 1,\n",
       "       1, 1, 1, 1, 1, 1, 1, 1, 1, 0, 1, 1, 1, 1, 1, 1, 0, 0, 1, 1, 1, 1,\n",
       "       1, 0, 0, 1, 1, 1, 0, 1, 1, 1, 0, 0, 1, 1, 0, 0, 1, 0, 1, 0, 1, 1,\n",
       "       1, 1, 1, 0, 1, 1, 0, 1, 0, 1, 0, 1, 1, 1, 1, 1, 1, 0, 1, 0, 1, 1,\n",
       "       0, 0, 1, 1, 0, 1, 1, 1, 1, 0, 1, 1, 1, 1, 0, 1, 1, 1, 0, 1, 0, 0,\n",
       "       1, 1, 0, 0, 1, 1, 1, 0, 1, 1, 0, 0, 1, 1, 1, 0, 1, 1, 1, 1, 1, 1,\n",
       "       1, 1, 0, 1, 1, 1, 1, 1, 0, 0, 1, 0, 1, 1, 1, 1, 1, 1, 1, 1, 0, 1,\n",
       "       1, 1, 1, 0, 1, 0, 0, 1, 1, 0, 1, 1, 1, 1])"
      ]
     },
     "execution_count": 8,
     "metadata": {},
     "output_type": "execute_result"
    }
   ],
   "source": [
    "lrmodel = LogisticRegression(max_iter=200,random_state=42)\n",
    "\n",
    "#Training the model with the train split data\n",
    "lrmodel.fit(X_train, y_train)\n",
    "\n",
    "# Make predictions\n",
    "y_pred = lrmodel.predict(X_test)\n",
    "y_pred #This prints the predicted array values"
   ]
  },
  {
   "cell_type": "code",
   "execution_count": 9,
   "id": "1a491363-2049-4ffe-9730-e2d9fa5a105b",
   "metadata": {},
   "outputs": [
    {
     "name": "stdout",
     "output_type": "stream",
     "text": [
      "Accuracy: 0.7515527950310559\n",
      "Classification Report:\n",
      "              precision    recall  f1-score   support\n",
      "\n",
      "           0       0.92      0.57      0.70       167\n",
      "           1       0.67      0.95      0.79       155\n",
      "\n",
      "    accuracy                           0.75       322\n",
      "   macro avg       0.80      0.76      0.74       322\n",
      "weighted avg       0.80      0.75      0.74       322\n",
      "\n"
     ]
    }
   ],
   "source": [
    "#Calculates the accuracy\n",
    "accuracy = accuracy_score(y_test, y_pred)\n",
    "print(\"Accuracy:\", accuracy)\n",
    "\n",
    "#Prints the classification report\n",
    "print(\"Classification Report:\")\n",
    "print(classification_report(y_test, y_pred))"
   ]
  },
  {
   "cell_type": "code",
   "execution_count": 10,
   "id": "6fe35b1d-f93c-46f2-b847-85f376180701",
   "metadata": {},
   "outputs": [
    {
     "data": {
      "text/plain": [
       "array([[ 95,  72],\n",
       "       [  8, 147]])"
      ]
     },
     "execution_count": 10,
     "metadata": {},
     "output_type": "execute_result"
    }
   ],
   "source": [
    "# import the metrics class\n",
    "from sklearn import metrics\n",
    "\n",
    "cnf_matrix = metrics.confusion_matrix(y_test, y_pred)\n",
    "cnf_matrix #This prints the matrix values"
   ]
  },
  {
   "cell_type": "code",
   "execution_count": 11,
   "id": "4bdb208c-8ac0-4969-b2ab-3336d2025cc6",
   "metadata": {},
   "outputs": [
    {
     "data": {
      "image/png": "[encoded data removed]",
      "text/plain": [
       "<Figure size 640x480 with 2 Axes>"
      ]
     },
     "metadata": {},
     "output_type": "display_data"
    }
   ],
   "source": [
    "#Imports numpy,matplot and seaborn libraries\n",
    "import numpy as np\n",
    "import matplotlib.pyplot as plt\n",
    "import seaborn as sns\n",
    "\n",
    "#Renders the heatmap\n",
    "sns.heatmap(pd.DataFrame(cnf_matrix), annot=True, cmap=sns.color_palette(\"Spectral\", as_cmap=True) ,fmt='g',xticklabels=['Real', 'Fake'], yticklabels=['Fake', 'Real'])\n",
    "plt.title('Confusion matrix', y=1.1) #Sets the title, location and distance\n",
    "plt.ylabel('Actual') #Labels the Y axis as Actual\n",
    "plt.xlabel('Predicted') #Labels the X axis as Predicted\n",
    "plt.show()"
   ]
  },
  {
   "cell_type": "code",
   "execution_count": 12,
   "id": "0ed3dde6-b0fd-4c5f-8147-2c91a3c25e76",
   "metadata": {},
   "outputs": [
    {
     "data": {
      "image/png": "[encoded data removed]",
      "text/plain": [
       "<Figure size 640x480 with 1 Axes>"
      ]
     },
     "metadata": {},
     "output_type": "display_data"
    }
   ],
   "source": [
    "y_pred_proba = lrmodel.predict_proba(X_test)[::,1] #Calculates the probability of positive class 1\n",
    "falseposrate, trueposrate, _ = metrics.roc_curve(y_test,  y_pred_proba) #Gets the false positive rate and true positive rate\n",
    "auc = metrics.roc_auc_score(y_test, y_pred_proba) #Calculates AUC scaore\n",
    "plt.plot(falseposrate,trueposrate,label=\"positive rate, auc=\"+str(auc)) #Plots the false postive rate and true positive rate\n",
    "plt.legend(loc=4) #Sets location of the legend\n",
    "plt.show()"
   ]
  },
  {
   "cell_type": "markdown",
   "id": "a9cdd475-757b-4e13-af14-4ea9ae8eb1a4",
   "metadata": {},
   "source": [
    "### Conclusion"
   ]
  },
  {
   "cell_type": "markdown",
   "id": "febfdf8f-7dd7-4aca-a260-afc678dc6103",
   "metadata": {},
   "source": [
    "*The logistic regression model yield an accuracy of 0.751 with and f1-score of 0.70 for real videos and 0.79 for fake videos and an ACU value of 0.855. This shows that this model can dectect the AI generated videos relatively well.*"
   ]
  },
  {
   "cell_type": "code",
   "execution_count": null,
   "id": "5eb7d14a-dcef-4375-b830-fc464609480e",
   "metadata": {},
   "outputs": [],
   "source": []
  }
 ],
 "metadata": {
  "kernelspec": {
   "display_name": "Python 3 (ipykernel)",
   "language": "python",
   "name": "python3"
  },
  "language_info": {
   "codemirror_mode": {
    "name": "ipython",
    "version": 3
   },
   "file_extension": ".py",
   "mimetype": "text/x-python",
   "name": "python",
   "nbconvert_exporter": "python",
   "pygments_lexer": "ipython3",
   "version": "3.13.2"
  }
 },
 "nbformat": 4,
 "nbformat_minor": 5
}
