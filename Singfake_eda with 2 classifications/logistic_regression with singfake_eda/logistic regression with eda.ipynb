{
 "cells": [
  {
   "cell_type": "code",
   "execution_count": 1,
   "id": "0ca365ef-a627-4dc9-96f0-8dfcfddf6ee7",
   "metadata": {},
   "outputs": [
    {
     "data": {
      "text/html": [
       "<div>\n",
       "<style scoped>\n",
       "    .dataframe tbody tr th:only-of-type {\n",
       "        vertical-align: middle;\n",
       "    }\n",
       "\n",
       "    .dataframe tbody tr th {\n",
       "        vertical-align: top;\n",
       "    }\n",
       "\n",
       "    .dataframe thead th {\n",
       "        text-align: right;\n",
       "    }\n",
       "</style>\n",
       "<table border=\"1\" class=\"dataframe\">\n",
       "  <thead>\n",
       "    <tr style=\"text-align: right;\">\n",
       "      <th></th>\n",
       "      <th>set</th>\n",
       "      <th>bonafide_or_spoof</th>\n",
       "      <th>language</th>\n",
       "      <th>singer</th>\n",
       "      <th>title</th>\n",
       "      <th>url</th>\n",
       "      <th>views</th>\n",
       "      <th>likes</th>\n",
       "      <th>comments</th>\n",
       "    </tr>\n",
       "  </thead>\n",
       "  <tbody>\n",
       "    <tr>\n",
       "      <th>0</th>\n",
       "      <td>Training</td>\n",
       "      <td>0</td>\n",
       "      <td>Mandarin</td>\n",
       "      <td>Stefanie_Sun</td>\n",
       "      <td>尚好的青春-孙燕姿</td>\n",
       "      <td>https://www.bilibili.com/video/BV1J841177n3?p=19</td>\n",
       "      <td>3335891</td>\n",
       "      <td>28129</td>\n",
       "      <td>1038</td>\n",
       "    </tr>\n",
       "    <tr>\n",
       "      <th>1</th>\n",
       "      <td>Training</td>\n",
       "      <td>0</td>\n",
       "      <td>Mandarin</td>\n",
       "      <td>Hebe_Tien</td>\n",
       "      <td>【首播】田馥甄 - 灵魂伴侣 - 官方MV</td>\n",
       "      <td>https://www.bilibili.com/video/BV18s411k7K3/?s...</td>\n",
       "      <td>152316</td>\n",
       "      <td>1329</td>\n",
       "      <td>173</td>\n",
       "    </tr>\n",
       "    <tr>\n",
       "      <th>2</th>\n",
       "      <td>T01</td>\n",
       "      <td>0</td>\n",
       "      <td>Mandarin</td>\n",
       "      <td>Stefanie_Sun</td>\n",
       "      <td>【私藏馆】孙燕姿《遇见》爆火神曲！祝大家节日快乐！</td>\n",
       "      <td>https://www.bilibili.com/video/BV1Q44y1M7bB/?s...</td>\n",
       "      <td>7920420</td>\n",
       "      <td>132851</td>\n",
       "      <td>3827</td>\n",
       "    </tr>\n",
       "    <tr>\n",
       "      <th>3</th>\n",
       "      <td>Training</td>\n",
       "      <td>0</td>\n",
       "      <td>Mandarin</td>\n",
       "      <td>Mayday</td>\n",
       "      <td>Mayday五月天【星空】MV官方完整版-電影「星空」主題曲</td>\n",
       "      <td>https://www.youtube.com/watch?v=RTUwaCImChM</td>\n",
       "      <td>44845261</td>\n",
       "      <td>112283</td>\n",
       "      <td>4765</td>\n",
       "    </tr>\n",
       "    <tr>\n",
       "      <th>4</th>\n",
       "      <td>Training</td>\n",
       "      <td>0</td>\n",
       "      <td>Mandarin</td>\n",
       "      <td>Stefanie_Sun</td>\n",
       "      <td>害怕-孙燕姿</td>\n",
       "      <td>https://www.bilibili.com/video/BV1J841177n3?p=...</td>\n",
       "      <td>3335894</td>\n",
       "      <td>28129</td>\n",
       "      <td>1038</td>\n",
       "    </tr>\n",
       "    <tr>\n",
       "      <th>5</th>\n",
       "      <td>T02</td>\n",
       "      <td>0</td>\n",
       "      <td>Mandarin</td>\n",
       "      <td>Teresa_Teng</td>\n",
       "      <td>邓丽君演唱《红豆》歌声悠扬，经典动听，让人回味无穷</td>\n",
       "      <td>https://www.bilibili.com/video/BV1LV4y1P7yJ/?s...</td>\n",
       "      <td>6106</td>\n",
       "      <td>28</td>\n",
       "      <td>10</td>\n",
       "    </tr>\n",
       "    <tr>\n",
       "      <th>6</th>\n",
       "      <td>Training</td>\n",
       "      <td>0</td>\n",
       "      <td>Mandarin</td>\n",
       "      <td>Hebe_Tien</td>\n",
       "      <td>【田馥甄】终身大事-2014 Live「2GETHER 4EVER ENCORE影音館」</td>\n",
       "      <td>https://www.bilibili.com/video/BV1os411B7NN/?s...</td>\n",
       "      <td>50649</td>\n",
       "      <td>590</td>\n",
       "      <td>67</td>\n",
       "    </tr>\n",
       "    <tr>\n",
       "      <th>7</th>\n",
       "      <td>Training</td>\n",
       "      <td>0</td>\n",
       "      <td>Mandarin</td>\n",
       "      <td>Hebe_Tien</td>\n",
       "      <td>田馥甄 - 要死就一定要死在你手里【梦想的声音】</td>\n",
       "      <td>https://www.bilibili.com/video/BV1Wx411n74G/?s...</td>\n",
       "      <td>166100</td>\n",
       "      <td>919</td>\n",
       "      <td>107</td>\n",
       "    </tr>\n",
       "    <tr>\n",
       "      <th>8</th>\n",
       "      <td>Training</td>\n",
       "      <td>0</td>\n",
       "      <td>Mandarin</td>\n",
       "      <td>Jay_Chou</td>\n",
       "      <td>周杰倫 Jay Chou【浪漫手機 Romantic Cellphone】-Official...</td>\n",
       "      <td>https://www.youtube.com/watch?v=Kbvu9Vt5_eE&amp;li...</td>\n",
       "      <td>7256658</td>\n",
       "      <td>27676</td>\n",
       "      <td>2060</td>\n",
       "    </tr>\n",
       "    <tr>\n",
       "      <th>9</th>\n",
       "      <td>Training</td>\n",
       "      <td>0</td>\n",
       "      <td>Mandarin</td>\n",
       "      <td>Hebe_Tien</td>\n",
       "      <td>还是要幸福</td>\n",
       "      <td>https://www.bilibili.com/video/BV1ja4y147Wr?p=11</td>\n",
       "      <td>12402</td>\n",
       "      <td>92</td>\n",
       "      <td>4</td>\n",
       "    </tr>\n",
       "  </tbody>\n",
       "</table>\n",
       "</div>"
      ],
      "text/plain": [
       "        set  bonafide_or_spoof  language        singer  \\\n",
       "0  Training                  0  Mandarin  Stefanie_Sun   \n",
       "1  Training                  0  Mandarin     Hebe_Tien   \n",
       "2       T01                  0  Mandarin  Stefanie_Sun   \n",
       "3  Training                  0  Mandarin        Mayday   \n",
       "4  Training                  0  Mandarin  Stefanie_Sun   \n",
       "5       T02                  0  Mandarin   Teresa_Teng   \n",
       "6  Training                  0  Mandarin     Hebe_Tien   \n",
       "7  Training                  0  Mandarin     Hebe_Tien   \n",
       "8  Training                  0  Mandarin      Jay_Chou   \n",
       "9  Training                  0  Mandarin     Hebe_Tien   \n",
       "\n",
       "                                               title  \\\n",
       "0                                          尚好的青春-孙燕姿   \n",
       "1                              【首播】田馥甄 - 灵魂伴侣 - 官方MV   \n",
       "2                          【私藏馆】孙燕姿《遇见》爆火神曲！祝大家节日快乐！   \n",
       "3                     Mayday五月天【星空】MV官方完整版-電影「星空」主題曲   \n",
       "4                                             害怕-孙燕姿   \n",
       "5                          邓丽君演唱《红豆》歌声悠扬，经典动听，让人回味无穷   \n",
       "6       【田馥甄】终身大事-2014 Live「2GETHER 4EVER ENCORE影音館」   \n",
       "7                           田馥甄 - 要死就一定要死在你手里【梦想的声音】   \n",
       "8  周杰倫 Jay Chou【浪漫手機 Romantic Cellphone】-Official...   \n",
       "9                                              还是要幸福   \n",
       "\n",
       "                                                 url     views   likes  \\\n",
       "0   https://www.bilibili.com/video/BV1J841177n3?p=19   3335891   28129   \n",
       "1  https://www.bilibili.com/video/BV18s411k7K3/?s...    152316    1329   \n",
       "2  https://www.bilibili.com/video/BV1Q44y1M7bB/?s...   7920420  132851   \n",
       "3        https://www.youtube.com/watch?v=RTUwaCImChM  44845261  112283   \n",
       "4  https://www.bilibili.com/video/BV1J841177n3?p=...   3335894   28129   \n",
       "5  https://www.bilibili.com/video/BV1LV4y1P7yJ/?s...      6106      28   \n",
       "6  https://www.bilibili.com/video/BV1os411B7NN/?s...     50649     590   \n",
       "7  https://www.bilibili.com/video/BV1Wx411n74G/?s...    166100     919   \n",
       "8  https://www.youtube.com/watch?v=Kbvu9Vt5_eE&li...   7256658   27676   \n",
       "9   https://www.bilibili.com/video/BV1ja4y147Wr?p=11     12402      92   \n",
       "\n",
       "   comments  \n",
       "0      1038  \n",
       "1       173  \n",
       "2      3827  \n",
       "3      4765  \n",
       "4      1038  \n",
       "5        10  \n",
       "6        67  \n",
       "7       107  \n",
       "8      2060  \n",
       "9         4  "
      ]
     },
     "execution_count": 1,
     "metadata": {},
     "output_type": "execute_result"
    }
   ],
   "source": [
    "import pandas as pd\n",
    "col_names = ['set','bonafide_or_spoof','language','singer','title','url','views','likes','comments']\n",
    "pdata = pd.read_csv('singfake_eda.csv', skiprows=1, names=col_names)\n",
    "pdata.head(10)"
   ]
  },
  {
   "cell_type": "code",
   "execution_count": 3,
   "id": "0a57dce7-c728-43e8-be4a-6c8cfef7cf68",
   "metadata": {},
   "outputs": [
    {
     "name": "stdout",
     "output_type": "stream",
     "text": [
      "set                  object\n",
      "bonafide_or_spoof     int64\n",
      "language             object\n",
      "singer               object\n",
      "title                object\n",
      "url                  object\n",
      "views                 int64\n",
      "likes                 int64\n",
      "comments              int64\n",
      "dtype: object\n"
     ]
    }
   ],
   "source": [
    "print(pdata.dtypes)"
   ]
  },
  {
   "cell_type": "code",
   "execution_count": 5,
   "id": "276c692f-21fa-4f95-8648-6056d4a919ac",
   "metadata": {},
   "outputs": [
    {
     "name": "stdout",
     "output_type": "stream",
     "text": [
      "946\n",
      "946\n"
     ]
    }
   ],
   "source": [
    "import sklearn\n",
    "from sklearn.datasets import make_classification\n",
    "from sklearn.model_selection import train_test_split\n",
    "from sklearn.linear_model import LogisticRegression\n",
    "from sklearn.metrics import accuracy_score, classification_report\n",
    "from sklearn.preprocessing import StandardScaler\n",
    "from sklearn.feature_extraction.text import TfidfVectorizer\n",
    "\n",
    "feat_col = ['views','likes','comments']\n",
    "\n",
    "X = pdata[feat_col] \n",
    "y = pdata.bonafide_or_spoof\n",
    "\n",
    "X_train, X_test, y_train, y_test = train_test_split(X, y, test_size=0.25, random_state=42)\n",
    "\n",
    "print(len(X_train))\n",
    "print(len(y_train))"
   ]
  },
  {
   "cell_type": "code",
   "execution_count": 7,
   "id": "996895fe-9649-45fc-9866-1d6cfb81888f",
   "metadata": {},
   "outputs": [
    {
     "name": "stdout",
     "output_type": "stream",
     "text": [
      "141     0\n",
      "874     1\n",
      "712     1\n",
      "453     0\n",
      "139     0\n",
      "       ..\n",
      "1044    1\n",
      "1095    1\n",
      "1130    1\n",
      "860     1\n",
      "1126    1\n",
      "Name: bonafide_or_spoof, Length: 946, dtype: int64\n"
     ]
    }
   ],
   "source": [
    "print(y_train)"
   ]
  },
  {
   "cell_type": "code",
   "execution_count": 9,
   "id": "b4b4fa9d-6532-422f-8ef3-67580710de49",
   "metadata": {},
   "outputs": [
    {
     "name": "stdout",
     "output_type": "stream",
     "text": [
      "          views   likes  comments\n",
      "141     3335891   28129      1038\n",
      "874        4038      25        20\n",
      "712        9632     102        58\n",
      "453   138868560  252134     10767\n",
      "139       24157     476        23\n",
      "...         ...     ...       ...\n",
      "1044     305439    6750       472\n",
      "1095        639       9         7\n",
      "1130      16142     184        47\n",
      "860        6384      86        22\n",
      "1126      22814     576       109\n",
      "\n",
      "[946 rows x 3 columns]\n"
     ]
    }
   ],
   "source": [
    "print(X_train)"
   ]
  },
  {
   "cell_type": "code",
   "execution_count": 11,
   "id": "84061c5f-26c9-4365-bf85-30a5d70aefd8",
   "metadata": {},
   "outputs": [
    {
     "data": {
      "text/plain": [
       "array([1, 1, 1, 1, 1, 1, 1, 1, 1, 1, 1, 1, 0, 0, 1, 1, 1, 1, 1, 1, 1, 1,\n",
       "       1, 1, 1, 1, 0, 1, 1, 1, 0, 1, 1, 0, 1, 0, 1, 1, 1, 1, 1, 1, 1, 1,\n",
       "       0, 0, 0, 0, 1, 1, 1, 0, 1, 1, 0, 1, 1, 1, 1, 1, 1, 0, 1, 0, 0, 1,\n",
       "       1, 0, 1, 1, 1, 1, 0, 1, 1, 0, 1, 1, 0, 0, 1, 1, 0, 1, 0, 1, 1, 1,\n",
       "       1, 0, 1, 1, 0, 1, 1, 0, 0, 1, 1, 1, 1, 1, 1, 1, 1, 1, 1, 0, 1, 0,\n",
       "       1, 1, 1, 1, 1, 1, 0, 0, 1, 1, 1, 0, 1, 1, 1, 0, 1, 1, 1, 1, 0, 1,\n",
       "       1, 0, 1, 0, 1, 1, 1, 1, 1, 1, 1, 0, 0, 0, 1, 1, 0, 1, 1, 1, 1, 1,\n",
       "       1, 1, 0, 1, 0, 1, 0, 1, 0, 1, 1, 1, 1, 0, 1, 1, 1, 1, 0, 1, 1, 1,\n",
       "       1, 1, 1, 0, 1, 1, 1, 1, 1, 0, 1, 1, 1, 1, 1, 1, 0, 0, 1, 0, 1, 1,\n",
       "       0, 1, 1, 0, 1, 0, 1, 1, 1, 1, 1, 1, 1, 1, 1, 0, 0, 1, 1, 0, 1, 0,\n",
       "       0, 1, 0, 1, 0, 1, 1, 1, 1, 0, 0, 0, 0, 1, 1, 1, 0, 1, 1, 1, 1, 1,\n",
       "       1, 1, 0, 1, 1, 1, 0, 1, 1, 0, 0, 1, 1, 1, 1, 1, 0, 0, 0, 1, 1, 1,\n",
       "       0, 1, 1, 1, 1, 1, 1, 1, 0, 1, 1, 1, 0, 1, 0, 1, 1, 1, 1, 1, 0, 1,\n",
       "       1, 0, 1, 0, 1, 1, 0, 1, 1, 1, 1, 1, 1, 1, 1, 1, 1, 1, 1, 0, 1, 1,\n",
       "       0, 1, 1, 1, 0, 1, 0, 1], dtype=int64)"
      ]
     },
     "execution_count": 11,
     "metadata": {},
     "output_type": "execute_result"
    }
   ],
   "source": [
    "lrmodel = LogisticRegression(max_iter=200,random_state=42)\n",
    "\n",
    "#Training the model with the train split data\n",
    "lrmodel.fit(X_train, y_train)\n",
    "\n",
    "# Make predictions\n",
    "y_pred = lrmodel.predict(X_test)\n",
    "y_pred #This prints the predicted array values"
   ]
  },
  {
   "cell_type": "code",
   "execution_count": 13,
   "id": "03e4e89f-20e4-461e-8d37-a2ee1c5faff9",
   "metadata": {},
   "outputs": [
    {
     "name": "stdout",
     "output_type": "stream",
     "text": [
      "Accuracy: 0.7088607594936709\n",
      "Classification Report:\n",
      "              precision    recall  f1-score   support\n",
      "\n",
      "           0       0.96      0.48      0.64       170\n",
      "           1       0.62      0.98      0.76       146\n",
      "\n",
      "    accuracy                           0.71       316\n",
      "   macro avg       0.79      0.73      0.70       316\n",
      "weighted avg       0.80      0.71      0.69       316\n",
      "\n"
     ]
    }
   ],
   "source": [
    "#Calculates the accuracy\n",
    "accuracy = accuracy_score(y_test, y_pred)\n",
    "print(\"Accuracy:\", accuracy)\n",
    "\n",
    "#Prints the classification report\n",
    "print(\"Classification Report:\")\n",
    "print(classification_report(y_test, y_pred))"
   ]
  },
  {
   "cell_type": "code",
   "execution_count": 15,
   "id": "e8c3f87f-d680-4f53-86c8-a6f18ed8b7ee",
   "metadata": {},
   "outputs": [
    {
     "data": {
      "text/plain": [
       "array([[ 81,  89],\n",
       "       [  3, 143]], dtype=int64)"
      ]
     },
     "execution_count": 15,
     "metadata": {},
     "output_type": "execute_result"
    }
   ],
   "source": [
    "# import the metrics class\n",
    "from sklearn import metrics\n",
    "\n",
    "cnf_matrix = metrics.confusion_matrix(y_test, y_pred)\n",
    "cnf_matrix #This prints the matrix values"
   ]
  },
  {
   "cell_type": "code",
   "execution_count": 17,
   "id": "14a371f4-ee49-4249-bb19-02ed1788ca71",
   "metadata": {},
   "outputs": [
    {
     "data": {
      "image/png": "[encoded data removed]",
      "text/plain": [
       "<Figure size 640x480 with 2 Axes>"
      ]
     },
     "metadata": {},
     "output_type": "display_data"
    }
   ],
   "source": [
    "#Imports numpy,matplot and seaborn libraries\n",
    "import numpy as np\n",
    "import matplotlib.pyplot as plt\n",
    "import seaborn as sns\n",
    "\n",
    "#Renders the heatmap\n",
    "sns.heatmap(pd.DataFrame(cnf_matrix), annot=True, cmap=sns.color_palette(\"Spectral\", as_cmap=True) ,fmt='g',xticklabels=['Real', 'Fake'], yticklabels=['Fake', 'Real'])\n",
    "plt.title('Confusion matrix', y=1.1) #Sets the title, location and distance\n",
    "plt.ylabel('Actual') #Labels the Y axis as Actual\n",
    "plt.xlabel('Predicted') #Labels the X axis as Predicted\n",
    "plt.show()"
   ]
  },
  {
   "cell_type": "code",
   "execution_count": 19,
   "id": "69754d33-9dc2-4d1e-834e-9d000db66df0",
   "metadata": {},
   "outputs": [
    {
     "data": {
      "image/png": "[encoded data removed]",
      "text/plain": [
       "<Figure size 640x480 with 1 Axes>"
      ]
     },
     "metadata": {},
     "output_type": "display_data"
    }
   ],
   "source": [
    "y_pred_proba = lrmodel.predict_proba(X_test)[::,1] #Calculates the probability of positive class 1\n",
    "falseposrate, trueposrate, _ = metrics.roc_curve(y_test,  y_pred_proba) #Gets the false positive rate and true positive rate\n",
    "auc = metrics.roc_auc_score(y_test, y_pred_proba) #Calculates AUC scaore\n",
    "plt.plot(falseposrate,trueposrate,label=\"positive rate, auc=\"+str(auc)) #Plots the false postive rate and true positive rate\n",
    "plt.legend(loc=4) #Sets location of the legend\n",
    "plt.show()"
   ]
  },
  {
   "cell_type": "markdown",
   "id": "f07d6450-5c8f-4b1b-804d-7b1eb2783b92",
   "metadata": {},
   "source": [
    "#Conclusion:\n",
    "The logistic regression model yield an accuracy of 0.709 with and f1-score of 0.64 for real videos and 0.76 for fake videos and an ACU value of 0.831. This shows that this model can dectect the AI generated videos relatively well. But not as well as the previous dataset, singfake_metadata."
   ]
  }
 ],
 "metadata": {
  "kernelspec": {
   "display_name": "Python [conda env:base] *",
   "language": "python",
   "name": "conda-base-py"
  },
  "language_info": {
   "codemirror_mode": {
    "name": "ipython",
    "version": 3
   },
   "file_extension": ".py",
   "mimetype": "text/x-python",
   "name": "python",
   "nbconvert_exporter": "python",
   "pygments_lexer": "ipython3",
   "version": "3.12.7"
  }
 },
 "nbformat": 4,
 "nbformat_minor": 5
}
